{
 "cells": [
  {
   "cell_type": "markdown",
   "metadata": {
    "deletable": true,
    "editable": true
   },
   "source": [
    "# Using the Datashader `HoverLayer`"
   ]
  },
  {
   "cell_type": "markdown",
   "metadata": {
    "deletable": true,
    "editable": true
   },
   "source": [
    "This notebook reviews use of the `datashader.bokeh_ext.HoverLayer` which integrates `datashader` with the Bokeh `HoverTool`. \n",
    "\n",
    "Using HoverLayer, you can display values from a 'datashaded' image in Bokeh tooltips."
   ]
  },
  {
   "cell_type": "code",
   "execution_count": null,
   "metadata": {
    "collapsed": false,
    "deletable": true,
    "editable": true
   },
   "outputs": [],
   "source": [
    "from bokeh.io import output_notebook, show\n",
    "from bokeh.plotting import Figure\n",
    "\n",
    "import pandas as pd\n",
    "import datashader as ds\n",
    "import datashader.transfer_functions as tf\n",
    "\n",
    "from datashader.colors import Hot\n",
    "from datashader.bokeh_ext import HoverLayer\n",
    "\n",
    "output_notebook()"
   ]
  },
  {
   "cell_type": "markdown",
   "metadata": {
    "deletable": true,
    "editable": true
   },
   "source": [
    "### Load NYC Taxi Data"
   ]
  },
  {
   "cell_type": "code",
   "execution_count": null,
   "metadata": {
    "collapsed": true,
    "deletable": true,
    "editable": true
   },
   "outputs": [],
   "source": [
    "df = pd.read_csv('data/nyc_taxi.csv', usecols=['dropoff_x', 'dropoff_y', 'tpep_dropoff_datetime'])"
   ]
  },
  {
   "cell_type": "markdown",
   "metadata": {
    "deletable": true,
    "editable": true
   },
   "source": [
    "small amount of data prep to classify dropoff times into morning, afternoon, and evening"
   ]
  },
  {
   "cell_type": "code",
   "execution_count": null,
   "metadata": {
    "collapsed": false,
    "deletable": true,
    "editable": true
   },
   "outputs": [],
   "source": [
    "df['hour'] = pd.to_datetime(df['tpep_dropoff_datetime']).dt.hour\n",
    "df['time'] = pd.cut(df['hour'], bins=[0, 12, 17, 24], labels=['morning', 'afternoon', 'evening']).astype('category')"
   ]
  },
  {
   "cell_type": "markdown",
   "metadata": {
    "deletable": true,
    "editable": true
   },
   "source": [
    "### Simple datashaded image displayed using Bokeh.ImageRGBA"
   ]
  },
  {
   "cell_type": "code",
   "execution_count": null,
   "metadata": {
    "collapsed": false,
    "deletable": true,
    "editable": true
   },
   "outputs": [],
   "source": [
    "def create_base_plot():\n",
    "    \n",
    "    # taxi data is in meters\n",
    "    xmin = -8240227.037\n",
    "    ymin = 4974203.152\n",
    "    xmax = -8231283.905\n",
    "    ymax = 4979238.441\n",
    "\n",
    "    cvs = ds.Canvas(plot_width=900,\n",
    "                    plot_height=600,\n",
    "                    x_range=(xmin, xmax),\n",
    "                    y_range=(ymin, ymax))\n",
    "\n",
    "    agg = cvs.points(df, 'dropoff_x', 'dropoff_y')\n",
    "    img = tf.shade(agg, cmap=Hot, how='log')\n",
    "    fig = Figure(x_range=(xmin, xmax),\n",
    "                 y_range=(ymin, ymax),\n",
    "                 plot_width=900,\n",
    "                 plot_height=600,\n",
    "                 tools='')\n",
    "    \n",
    "    fig.background_fill_color = 'black'\n",
    "    fig.toolbar_location = None\n",
    "    fig.axis.visible = False\n",
    "    fig.grid.grid_line_alpha = 0\n",
    "    fig.min_border_left = 0\n",
    "    fig.min_border_right = 0\n",
    "    fig.min_border_top = 0\n",
    "    fig.min_border_bottom = 0\n",
    "\n",
    "    fig.image_rgba(image=[img.data],\n",
    "                   x=[xmin],\n",
    "                   y=[ymin],\n",
    "                   dw=[xmax-xmin],\n",
    "                   dh=[ymax-ymin])\n",
    "    return fig, (xmin, ymin, xmax, ymax), agg\n",
    "\n",
    "fig, extent, datashader_agg = create_base_plot()\n",
    "show(fig)\n"
   ]
  },
  {
   "cell_type": "markdown",
   "metadata": {
    "deletable": true,
    "editable": true
   },
   "source": [
    "Above is a base datashaded image of NYC Taxi data as a starting place to explore HoverLayer.  We are visualizing the number of dropoffs at a given location. \n",
    "\n",
    "The simpliest hover layer has 3 required arguments, all of which return from the `create_base_plot` function:\n",
    "- A datashader aggregate (xarray)\n",
    "- An extent (xmin, ymin, xmax, ymax)\n",
    "- The field name with the aggregate to summarize in the HoverLayer.\n"
   ]
  },
  {
   "cell_type": "code",
   "execution_count": null,
   "metadata": {
    "collapsed": false,
    "deletable": true,
    "editable": true
   },
   "outputs": [],
   "source": [
    "fig, extent, datashader_agg = create_base_plot()\n",
    "\n",
    "hover_layer = HoverLayer(agg=datashader_agg,\n",
    "                         extent=extent,\n",
    "                         field_name='Average Dropoff Count')\n",
    "\n",
    "fig.renderers.append(hover_layer.renderer)\n",
    "fig.add_tools(hover_layer.tool)\n",
    "show(fig)"
   ]
  },
  {
   "cell_type": "markdown",
   "metadata": {
    "deletable": true,
    "editable": true
   },
   "source": [
    "By default, the `HoverLayer` will use the `mean` of the values (excluding NaNs). When aggregating points, `Canvas.points` defaults to a `count`, thus the tooltips above show the Average Count of passengers.\n",
    "\n",
    "Instead of showing the `Average Count`, let's display the `Total` count by setting `HoverLayer.how` to `sum`:"
   ]
  },
  {
   "cell_type": "code",
   "execution_count": null,
   "metadata": {
    "collapsed": false,
    "deletable": true,
    "editable": true
   },
   "outputs": [],
   "source": [
    "fig, extent, datashader_agg = create_base_plot()\n",
    "\n",
    "hover_layer = HoverLayer(agg=datashader_agg,\n",
    "                         extent=extent,\n",
    "                         field_name='Total Dropoffs',\n",
    "                         how='sum')\n",
    "\n",
    "fig.renderers.append(hover_layer.renderer)\n",
    "fig.add_tools(hover_layer.tool)\n",
    "show(fig)"
   ]
  },
  {
   "cell_type": "markdown",
   "metadata": {
    "collapsed": true,
    "deletable": true,
    "editable": true
   },
   "source": [
    "Now that we have a basic hover function, let's change it size and selection glyph appearance:"
   ]
  },
  {
   "cell_type": "code",
   "execution_count": null,
   "metadata": {
    "collapsed": false,
    "deletable": true,
    "editable": true,
    "scrolled": true
   },
   "outputs": [],
   "source": [
    "fig, extent, datashader_agg = create_base_plot()\n",
    "hover_layer = HoverLayer(field_name='Total Dropoffs',\n",
    "                         highlight_fill_color='#FFFFFF',\n",
    "                         highlight_line_color='#FFFFFF',\n",
    "                         size=30,\n",
    "                         extent=extent,\n",
    "                         agg=datashader_agg,\n",
    "                         how='sum')\n",
    "\n",
    "fig.renderers.append(hover_layer.renderer)\n",
    "fig.add_tools(hover_layer.tool)\n",
    "show(fig)"
   ]
  },
  {
   "cell_type": "markdown",
   "metadata": {
    "deletable": true,
    "editable": true
   },
   "source": [
    "### Using HoverLayer with Categorical Field"
   ]
  },
  {
   "cell_type": "code",
   "execution_count": null,
   "metadata": {
    "collapsed": false,
    "deletable": true,
    "editable": true
   },
   "outputs": [],
   "source": [
    "# taxi data is in meters\n",
    "xmin = -8240227.037\n",
    "ymin = 4974203.152\n",
    "xmax = -8231283.905\n",
    "ymax = 4979238.441\n",
    "\n",
    "cvs = ds.Canvas(plot_width=900,\n",
    "                plot_height=600,\n",
    "                x_range=(xmin, xmax),\n",
    "                y_range=(ymin, ymax))"
   ]
  },
  {
   "cell_type": "code",
   "execution_count": null,
   "metadata": {
    "collapsed": false,
    "deletable": true,
    "editable": true
   },
   "outputs": [],
   "source": [
    "colors = {'morning':'lime', 'afternoon':'magenta', 'evening':'cyan'}\n",
    "cvs = ds.Canvas(plot_width=800, plot_height=500, x_range=(xmin, xmax), y_range=(ymin, ymax))\n",
    "agg = cvs.points(df, 'dropoff_x', 'dropoff_y', ds.count_cat('time'))\n",
    "img = tf.shade(agg, color_key=colors, how='eq_hist')"
   ]
  },
  {
   "cell_type": "code",
   "execution_count": null,
   "metadata": {
    "collapsed": false,
    "deletable": true,
    "editable": true
   },
   "outputs": [],
   "source": [
    "fig = Figure(x_range=(xmin, xmax),\n",
    "             y_range=(ymin, ymax),\n",
    "             plot_width=900,\n",
    "             plot_height=600,\n",
    "             tools='')\n",
    "\n",
    "fig.background_fill_color = 'black'\n",
    "fig.toolbar_location = None\n",
    "fig.axis.visible = False\n",
    "fig.grid.grid_line_alpha = 0\n",
    "fig.min_border_left = 0\n",
    "fig.min_border_right = 0\n",
    "fig.min_border_top = 0\n",
    "fig.min_border_bottom = 0\n",
    "\n",
    "fig.image_rgba(image=[img.data],\n",
    "               x=[xmin],\n",
    "               y=[ymin],\n",
    "               dw=[xmax-xmin],\n",
    "               dh=[ymax-ymin])\n",
    "\n",
    "\n",
    "fig.background_fill_color = 'black'\n",
    "fig.toolbar_location = None\n",
    "fig.axis.visible = False\n",
    "fig.grid.grid_line_alpha = 0\n",
    "fig.min_border_left = 0\n",
    "fig.min_border_right = 0\n",
    "fig.min_border_top = 0\n",
    "fig.min_border_bottom = 0\n",
    "\n",
    "fig.image_rgba(image=[img.data],\n",
    "               x=[xmin],\n",
    "               y=[ymin],\n",
    "               dw=[xmax-xmin],\n",
    "               dh=[ymax-ymin])\n",
    "\n",
    "hover_layer = HoverLayer(field_name='Payment Type',\n",
    "                         extent=extent,\n",
    "                         is_categorical=True,\n",
    "                         size=30,\n",
    "                         how='sum',\n",
    "                         agg=agg)\n",
    "\n",
    "fig.renderers.append(hover_layer.renderer)\n",
    "fig.add_tools(hover_layer.tool)\n",
    "show(fig)"
   ]
  },
  {
   "cell_type": "markdown",
   "metadata": {
    "deletable": true,
    "editable": true
   },
   "source": [
    "### Updating Hover Layer\n",
    "\n",
    "Upon user interaction with a plot, you may need to update an existing HoverLayer.  This works well with `Bokeh Server`, but is not currently available from within a Jupyter notebook. \n",
    "\n",
    "To see an example of how to update `HoverLayer`, check out `/examples/dashboard/dashboard.py` which is a Bokeh Server app and contains a dynamic HoverLayer: https://github.com/bokeh/datashader/blob/master/examples/dashboard/dashboard.py#L267-L270"
   ]
  },
  {
   "cell_type": "markdown",
   "metadata": {
    "collapsed": true,
    "deletable": true,
    "editable": true
   },
   "source": [
    "\n"
   ]
  }
 ],
 "metadata": {
  "kernelspec": {
   "display_name": "Python 3",
   "language": "python",
   "name": "python3"
  },
  "language_info": {
   "codemirror_mode": {
    "name": "ipython",
    "version": 3
   },
   "file_extension": ".py",
   "mimetype": "text/x-python",
   "name": "python",
   "nbconvert_exporter": "python",
   "pygments_lexer": "ipython3",
   "version": "3.6.0"
  },
  "widgets": {
   "state": {},
   "version": "1.1.2"
  }
 },
 "nbformat": 4,
 "nbformat_minor": 0
}
