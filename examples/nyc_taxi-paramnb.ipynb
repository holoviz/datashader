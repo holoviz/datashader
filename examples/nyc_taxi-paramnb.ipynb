{
 "cells": [
  {
   "cell_type": "markdown",
   "metadata": {
    "deletable": true,
    "editable": true,
    "extensions": {
     "jupyter_dashboards": {
      "version": 1,
      "views": {
       "grid_default": {
        "col": 0,
        "height": 2,
        "hidden": false,
        "row": 0,
        "width": 10
       },
       "report_default": {}
      }
     }
    }
   },
   "source": [
    "## NYC Taxi trips, with [Datashader](https://github.com/bokeh/datashader),  [HoloViews](http://holoviews.org), [GeoViews](https://github.com/ioam/geoviews/blob/master/README.md#installation) and [ParamNB](https://anaconda.org/jbednar/paramnb)"
   ]
  },
  {
   "cell_type": "markdown",
   "metadata": {
    "deletable": true,
    "editable": true,
    "extensions": {
     "jupyter_dashboards": {
      "version": 1,
      "views": {
       "grid_default": {
        "col": 0,
        "height": 9,
        "hidden": true,
        "row": 0,
        "width": 12
       },
       "report_default": {}
      }
     }
    }
   },
   "source": [
    "The InteractiveImage command provided with [datashader](https://github.com/bokeh/datashader) makes it simple to make an interactive plot of a very large dataset, but very often one will want to add additional interactive controls to filter your data, select columns for plotting, etc., which is not supported by InteractiveImage.  One way to do that is to use [ParamNB](https://anaconda.org/jbednar/paramnb) to instantiate some parameters and then have it run the subsequent cell whenever one of those parameters changes (via ``paramnb.Widgets(...,next_n=1)``).\n",
    "\n",
    "This notebook illustrates a cleaner way using a [HoloViews](http://holoviews.org) stream to connect the widgets and the plot. Requires ``conda install -c ioam/label/dev holoviews paramnb`` and installing [GeoViews](https://github.com/ioam/geoviews/blob/master/README.md#installation) (which is only important for the map tile support).\n",
    "\n",
    "## Setup"
   ]
  },
  {
   "cell_type": "code",
   "execution_count": null,
   "metadata": {
    "collapsed": false,
    "deletable": true,
    "editable": true,
    "extensions": {
     "jupyter_dashboards": {
      "version": 1,
      "views": {
       "grid_default": {
        "col": 0,
        "height": 11,
        "hidden": true,
        "row": 9,
        "width": 7
       },
       "report_default": {}
      }
     }
    }
   },
   "outputs": [],
   "source": [
    "import holoviews as hv\n",
    "import geoviews as gv\n",
    "import param, paramnb\n",
    "import pandas as pd\n",
    "\n",
    "from colorcet import cm\n",
    "from bokeh.models import WMTSTileSource\n",
    "from holoviews.operation.datashader import datashade\n",
    "from holoviews.streams import RangeXY\n",
    "\n",
    "hv.notebook_extension('bokeh')\n",
    "\n",
    "%time df = pd.read_csv('data/nyc_taxi.csv', usecols = ['passenger_count', \\\n",
    "                       'pickup_x', 'pickup_y', 'dropoff_x', 'dropoff_y'])\n",
    "df.tail()"
   ]
  },
  {
   "cell_type": "markdown",
   "metadata": {
    "deletable": true,
    "editable": true,
    "extensions": {
     "jupyter_dashboards": {
      "version": 1,
      "views": {
       "grid_default": {
        "col": 4,
        "height": 4,
        "hidden": true,
        "row": 21,
        "width": 4
       },
       "report_default": {}
      }
     }
    }
   },
   "source": [
    "# Interactive plot"
   ]
  },
  {
   "cell_type": "code",
   "execution_count": null,
   "metadata": {
    "collapsed": false,
    "deletable": true,
    "editable": true,
    "extensions": {
     "jupyter_dashboards": {
      "version": 1,
      "views": {
       "grid_default": {
        "col": 0,
        "height": 21,
        "hidden": false,
        "row": 2,
        "width": 10
       },
       "report_default": {}
      }
     }
    }
   },
   "outputs": [],
   "source": [
    "tiles = gv.WMTS(WMTSTileSource(url='https://server.arcgisonline.com/ArcGIS/rest/services/'\n",
    "                                   'World_Imagery/MapServer/tile/{Z}/{Y}/{X}.jpg'))\n",
    "tile_options = dict(width=800,height=475,xaxis=None,yaxis=None,bgcolor='black',show_grid=False)  \n",
    "\n",
    "passenger_counts = sorted(df.passenger_count.unique().tolist())\n",
    "\n",
    "class Options(hv.streams.Stream):\n",
    "    alpha       = param.Magnitude(default=0.75, doc=\"Alpha value for the map opacity\")\n",
    "    colormap    = param.ObjectSelector(default=cm[\"fire\"], objects=cm.values())\n",
    "    plot        = param.ObjectSelector(default=\"pickup\",   objects=[\"pickup\",\"dropoff\"])\n",
    "    passengers  = param.ObjectSelector(default=1,          objects=passenger_counts)\n",
    "    \n",
    "    def make_plot(self, x_range=None, y_range=None, **kwargs):\n",
    "        map_tiles = tiles(style=dict(alpha=self.alpha), plot=tile_options) \n",
    "\n",
    "        df_filt = df[df.passenger_count==self.passengers]\n",
    "        points = hv.Points(gv.Dataset(df_filt, kdims=[self.plot+'_x', self.plot+'_y'], vdims=[]))\n",
    "        taxi_trips = datashade(points, width=800, height=475, x_sampling=1, y_sampling=1, \n",
    "                               cmap=self.colormap, element_type=gv.Image,\n",
    "                               dynamic=False, x_range=x_range, y_range=y_range)\n",
    "                \n",
    "        return map_tiles * taxi_trips\n",
    "\n",
    "selector = Options(name=\"\")\n",
    "paramnb.Widgets(selector, callback=selector.update)\n",
    "hv.DynamicMap(selector.make_plot, kdims=[], streams=[selector, RangeXY()])"
   ]
  },
  {
   "cell_type": "markdown",
   "metadata": {
    "deletable": true,
    "editable": true,
    "extensions": {
     "jupyter_dashboards": {
      "version": 1,
      "views": {
       "grid_default": {
        "col": 0,
        "height": 4,
        "hidden": true,
        "row": 23,
        "width": 12
       },
       "report_default": {}
      }
     }
    }
   },
   "source": [
    "If you are viewing a static copy of this page through Anaconda Cloud, the interactive controls will not be visible, but you can download a copy of this notebook and run it through Jupyter notebook for the interactive version.  You can also view the controls and the image as a deployable dashboard using [Jupyter Dashboards](https://github.com/jupyter/dashboards), which can be installed separately using ``conda install -c conda-forge jupyter_dashboards``.  Jupyter Dashboards is a Jupyter extension that lets you choose which cells to publish to a dashboard layout, with the result like this [screenshot](https://raw.githubusercontent.com/bokeh/datashader/master/docs/images/nyc_taxi-paramnb.png) that can be deployed as a standalone server."
   ]
  }
 ],
 "metadata": {
  "anaconda-cloud": {},
  "extensions": {
   "jupyter_dashboards": {
    "activeView": "grid_default",
    "version": 1,
    "views": {
     "grid_default": {
      "cellMargin": 10,
      "defaultCellHeight": 20,
      "maxColumns": 12,
      "name": "grid",
      "type": "grid"
     },
     "report_default": {
      "name": "report",
      "type": "report"
     }
    }
   }
  },
  "kernelspec": {
   "display_name": "Python 3",
   "language": "python",
   "name": "python3"
  },
  "language_info": {
   "codemirror_mode": {
    "name": "ipython",
    "version": 3
   },
   "file_extension": ".py",
   "mimetype": "text/x-python",
   "name": "python",
   "nbconvert_exporter": "python",
   "pygments_lexer": "ipython3",
   "version": "3.6.0"
  }
 },
 "nbformat": 4,
 "nbformat_minor": 0
}
