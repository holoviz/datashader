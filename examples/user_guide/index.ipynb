{
 "cells": [
  {
   "cell_type": "markdown",
   "metadata": {},
   "source": [
    "The User Guide explains key concepts in detail.\n",
    "\n",
    "New users may prefer to start with the introduction in our [Getting Started](../getting_started/index.ipynb) guide.\n",
    "\n",
    "To see examples of what can be done with Datashader, see [Topics](../topics/index.ipynb).\n",
    "\n",
    "Contents:\n",
    "\n",
    "-   [1. Plotting Pitfalls](1_Plotting_Pitfalls.ipynb)  \n",
    "    Explains why Datashader is important for avoiding various pitfalls\n",
    "    encountered when using plotting techniques designed for small\n",
    "    datasets with big data.\n",
    "\n",
    "-   [2. Points](../topics/nyc_taxi.ipynb)  \n",
    "    (Under construction; meanwhile points to the [nyc_taxi](../topics/nyc_taxi.ipynb) notebook.)\n",
    "\n",
    "-   [3. Timeseries](3_Timeseries.ipynb)  \n",
    "    Plotting timeseries and other curves.\n",
    "\n",
    "-   [4. Trajectories](4_Trajectories.ipynb)  \n",
    "    Plotting trajectories (e.g. connected GPS points) in a plane.\n",
    "\n",
    "-   [5. Rasters](5_Rasters.ipynb)  \n",
    "    Plotting gridded (raster) data, from regularly sampled 2D points in\n",
    "    a plane.\n",
    "\n",
    "-   [6. Trimesh](6_Trimesh.ipynb)\n",
    "    Plotting large irregular triangular grids (meshes).\n",
    "\n",
    "-   [7. Networks](7_Networks.ipynb)  \n",
    "    Plotting large network graphs.\n",
    "\n",
    "-   [8. Geography](8_Geography.ipynb)  \n",
    "    Using Datashader for geographic applications\n",
    "\n",
    "-   [9. Extending](9_Extending.ipynb)  \n",
    "    Extending datashader with new components and functionality.\n",
    "\n",
    "-   [10. Performance](10_Performance.ipynb)  \n",
    "    Hints for getting good performance out of Datashader in your\n",
    "    applications."
   ]
  }
 ],
 "metadata": {
  "language_info": {
   "name": "python",
   "pygments_lexer": "ipython3"
  }
 },
 "nbformat": 4,
 "nbformat_minor": 2
}
