{
 "cells": [
  {
   "cell_type": "markdown",
   "metadata": {},
   "source": [
    "The User Guide explains key concepts in detail.\n",
    "\n",
    "New users may prefer to start with the introduction in our [Getting Started](../getting_started/index.ipynb) guide.\n",
    "\n",
    "To see examples of what can be done with Datashader, see [Topics](https://datashader.org/topics/index.html).\n",
    "\n",
    "Contents:\n",
    "\n",
    "-   [1. Plotting Pitfalls](1_Plotting_Pitfalls.ipynb)  \n",
    "    Explains how Datashader avoids pitfalls encountered when plotting big datasets\n",
    "    using techniques designed for small ones.\n",
    "\n",
    "-   [2. Points](https://examples.pyviz.org/nyc_taxi/nyc_taxi.html)  \n",
    "    (Under construction; meanwhile points to the [nyc_taxi](https://examples.pyviz.org/nyc_taxi/nyc_taxi.html) notebook.)\n",
    "\n",
    "-   [3. Timeseries](3_Timeseries.ipynb)  \n",
    "    Plotting timeseries and other curves.\n",
    "\n",
    "-   [4. Trajectories](4_Trajectories.ipynb)  \n",
    "    Plotting trajectories (e.g. connected GPS points) in a plane.\n",
    "\n",
    "-   [5. Grids](5_Grids.ipynb)  \n",
    "    Plotting 2D-gridded data (rasters and quadmeshes).\n",
    "\n",
    "-   [6. Trimesh](6_Trimesh.ipynb)\n",
    "    Plotting irregular triangular grids (trimeshes).\n",
    "\n",
    "-   [7. Networks](7_Networks.ipynb)  \n",
    "    Plotting network graphs.\n",
    "\n",
    "-   [8. Geography](8_Geography.ipynb)  \n",
    "    Using Datashader for geographic and other spatial applications\n",
    "\n",
    "-   [9. Extending](9_Extending.ipynb)  \n",
    "    Extending datashader with new components and functionality.\n",
    "\n",
    "-   [10. Performance](10_Performance.ipynb)  \n",
    "    Hints for getting good performance out of Datashader in your\n",
    "    applications."
   ]
  }
 ],
 "metadata": {
  "language_info": {
   "name": "python",
   "pygments_lexer": "ipython3"
  }
 },
 "nbformat": 4,
 "nbformat_minor": 2
}
