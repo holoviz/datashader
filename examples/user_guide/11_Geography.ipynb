{
 "cells": [
  {
   "cell_type": "markdown",
   "metadata": {},
   "source": [
    "Datashader is a general-purpose tool for rasterizing (and re-rasterizing) data of many different types. To make it easier to apply this general functionality to the particular domain of geoscience, there are some geospatial-specific utilities that can be used:\n",
    "\n",
    "* [Surface toolset](https://github.com/makepath/xarray-spatial/blob/master/examples/user_guide/1_Surface.ipynb)\n",
    "* [Proximity (Distance) toolset](https://github.com/makepath/xarray-spatial/blob/master/examples/user_guide/2_Proximity.ipynb)\n",
    "* [Zonal Statistics](https://github.com/makepath/xarray-spatial/blob/master/examples/user_guide/3_Zonal.ipynb)\n",
    "* [Classification toolset](https://github.com/makepath/xarray-spatial/blob/master/examples/user_guide/5_Classification.ipynb)\n",
    "* [Remote Sensing](https://github.com/makepath/xarray-spatial/blob/master/examples/user_guide/8_Remote_Sensing.ipynb)\n",
    "* [Pathfinding](https://github.com/makepath/xarray-spatial/blob/master/examples/user_guide/9_Pathfinding.ipynb)\n",
    "\n",
    "These functionality is provided in the [xarray-spatial](github.com/makepath/xarray-spatial) library.\n",
    "You can check out its [example notebooks](https://github.com/makepath/xarray-spatial/tree/master/examples/user_guide) to see how to use the functions.\n",
    "\n",
    "See also [GeoViews](http://geoviews.org), which is designed to work with Datashader to provide a large range of additional geospatial functionality."
   ]
  }
 ],
 "metadata": {
  "kernelspec": {
   "display_name": "Python 3",
   "language": "python",
   "name": "python3"
  },
  "language_info": {
   "codemirror_mode": {
    "name": "ipython",
    "version": 3
   },
   "file_extension": ".py",
   "mimetype": "text/x-python",
   "name": "python",
   "nbconvert_exporter": "python",
   "pygments_lexer": "ipython3",
   "version": "3.6.10"
  }
 },
 "nbformat": 4,
 "nbformat_minor": 2
}
