{
 "cells": [
  {
   "cell_type": "markdown",
   "metadata": {},
   "source": [
    "# 8. Geography\n",
    "\n",
    "Datashader supports any type of data that can be aggregated in two dimensions, but it also provides some specific support for geographic and Earth-science functionality.  See [GeoViews.org](http://geoviews.org) for a wide array of other geographic support designed to work well with Datashader.\n",
    "\n",
    "Most of the Datashader geo-related functionality is part of the `datashader.geo` module:\n",
    "\n",
    "* [Slope](#ds.geo---slope-function)\n",
    "* [Aspect](#ds.geo---aspect-function)\n",
    "* [Hillshade](#ds.geo---hillshade-function)\n",
    "* [NDVI](#ds.geo---ndvi-function)\n",
    "* [Mean](#ds.geo---mean-function)"
   ]
  },
  {
   "cell_type": "code",
   "execution_count": null,
   "metadata": {},
   "outputs": [],
   "source": [
    "from datashader.geo import slope, aspect, hillshade, ndvi"
   ]
  },
  {
   "cell_type": "code",
   "execution_count": null,
   "metadata": {},
   "outputs": [],
   "source": [
    "import datashader as ds\n",
    "import xarray as xr\n",
    "\n",
    "import holoviews as hv\n",
    "hv.extension('matplotlib','bokeh')\n",
    "COLORMAP = 'copper'\n",
    "\n",
    "from IPython.display import display, Markdown\n",
    "\n",
    "def version(mod):\n",
    "    print('{} version: {}'.format(mod.__name__,mod.__version__))\n",
    "\n",
    "version(ds)\n",
    "version(xr)\n",
    "version(hv)"
   ]
  },
  {
   "cell_type": "code",
   "execution_count": null,
   "metadata": {},
   "outputs": [],
   "source": [
    "def helper_normalize(data_array):\n",
    "    \"\"\"\n",
    "    Simple normalization helper\n",
    "    \"\"\"\n",
    "    return (data_array - data_array.min()) / (data_array.max() - data_array.min())\n",
    "\n",
    "\n",
    "def helper_do_gaussian():\n",
    "    \"\"\"Create a gaussian surface\"\"\"\n",
    "    import numpy as np\n",
    "    import xarray as xr\n",
    "\n",
    "    X = Y = np.linspace(-4, 4, 301)\n",
    "    X,Y = np.meshgrid(X, Y, sparse=True)\n",
    "    X_fac = -np.power(X, 2)\n",
    "    Y_fac = -np.power(Y, 2)\n",
    "\n",
    "    data_gaussian = np.exp((X_fac+Y_fac))\n",
    "    data_gaussian = helper_normalize(data_gaussian)\n",
    "\n",
    "    return xr.DataArray(data_gaussian, attrs={'res':1})\n",
    "\n",
    "\n",
    "def helper_do_gaussian_inverse():\n",
    "    \"\"\"Return a gaussian with inverted values\"\"\"\n",
    "    data_gaussian = helper_do_gaussian()\n",
    "    data_gaussian_inv = -1 * (data_gaussian - 1)\n",
    "    return data_gaussian_inv"
   ]
  },
  {
   "cell_type": "markdown",
   "metadata": {},
   "source": [
    "## Slope\n",
    "* Burrough, P. A., and McDonell, R. A., 1998. *Principles of Geographical Information Systems* (Oxford University Press, New York), pp 406\n",
    "\n",
    "[Slope](https://en.wikipedia.org/wiki/Slope) is the inclination of a surface. \n",
    "In geography, *slope* is amount of change in elevation of a terrain regarding its surroundings."
   ]
  },
  {
   "cell_type": "code",
   "execution_count": null,
   "metadata": {},
   "outputs": [],
   "source": [
    "display(Markdown(slope.__doc__))"
   ]
  },
  {
   "cell_type": "code",
   "execution_count": null,
   "metadata": {},
   "outputs": [],
   "source": [
    "# We will use a gaussian surface to show the output of the `slope` function.\n",
    "\n",
    "xarray_gaussian = helper_do_gaussian()\n",
    "\n",
    "da_slope = slope(xarray_gaussian)\n",
    "\n",
    "img_gauss = hv.Image(xarray_gaussian.data, label='Gaussian curve').options(colorbar=True).options(cmap=COLORMAP)\n",
    "img_slope = hv.Image(da_slope.data, label='Slope output').options(colorbar=True).options(cmap=COLORMAP)\n",
    "img_slope + img_gauss"
   ]
  },
  {
   "cell_type": "markdown",
   "metadata": {},
   "source": [
    "## Data\n",
    "\n",
    "The following section provides synthetic and actual geospatial data to demonstrate geoscience functionality.\n",
    "\n",
    "\n",
    "#### Synthetic\n",
    "\n",
    "* [Gaussian](#Gaussian) : a gaussian surface that will be used for the `geo.hillshade` function\n",
    " * Since a Gaussian distribution is simple, symmetric it is a good *toy* example for those 3D functions like shading or slope projections.\n",
    "* [Random](#Random---Normal) : \"white-noise\" to be used in `geo.mean` function\n",
    " * The visual effect of the mean filter is to *blur* the image. Another important property of the mean filter is that is conserves the total, integrate intensity of the image. Both aspects are clearly visible from a uniform (random) distribution.\n",
    " \n",
    "#### Real\n",
    "* [Austin-DEM](#Austin---DEM) : image providing elevation for the region surrounding the city of Austin, TX, USA; we will use the Austin-DEM data to produce a shaded (`hillshade`) version of the image.\n",
    "* [Landsat](#Landsat) : Landsat is a Earth observation mission -- currently in its 8th phase -- providing satellite images in different wavelengths. In particular, we will use two images of the same region but different waveband -- red and near-infrared -- to estimate the vegetation coverage from the `ndvi` method."
   ]
  },
  {
   "cell_type": "markdown",
   "metadata": {},
   "source": [
    "## Aspect\n",
    "* Burrough, P. A., and McDonell, R. A., 1998. *Principles of Geographical Information Systems* (Oxford University Press, New York), pp 406\n",
    "\n",
    "[Aspect](https://en.wikipedia.org/wiki/Aspect_(geography)) is the orientation of slope, measured clockwise in degrees from 0 to 360, where 0 is north-facing, 90 is east-facing, 180 is south-facing, and 270 is west-facing."
   ]
  },
  {
   "cell_type": "code",
   "execution_count": null,
   "metadata": {},
   "outputs": [],
   "source": [
    "display(Markdown(aspect.__doc__))"
   ]
  },
  {
   "cell_type": "code",
   "execution_count": null,
   "metadata": {},
   "outputs": [],
   "source": [
    "# We will use a gaussian surface to help us understand the result of the *aspect* transform.\n",
    "\n",
    "xarray_gaussian = helper_do_gaussian()\n",
    "\n",
    "da_aspect = aspect(xarray_gaussian)\n",
    "\n",
    "hv.Image(da_aspect.data, label='Aspect of Gaussian centered at [0,0]').options(colorbar=True).options(cmap=COLORMAP)"
   ]
  },
  {
   "cell_type": "markdown",
   "metadata": {},
   "source": [
    "## Hillshade\n",
    "* Burrough, P. A., and McDonell, R. A., 1998. *Principles of Geographical Information Systems* (Oxford University Press, New York), pp 406\n",
    "\n",
    "[Hillshade](https://en.wikipedia.org/wiki/Terrain_cartography) is a technique used to visualize terrain as shaded relief, illuminating it with a hypothetical light source. The illumination value for each cell is determined by its orientation to the light source, which is based on slope and aspect."
   ]
  },
  {
   "cell_type": "code",
   "execution_count": null,
   "metadata": {},
   "outputs": [],
   "source": [
    "display(Markdown(hillshade.__doc__))"
   ]
  },
  {
   "cell_type": "markdown",
   "metadata": {},
   "source": [
    "#### Multi-Directional Oblique (MDOW) Hillshade"
   ]
  },
  {
   "cell_type": "code",
   "execution_count": null,
   "metadata": {},
   "outputs": [],
   "source": [
    "hillshade_agg = hillshade(xarray_gaussian, how='mdow', out_type='data')\n",
    "img_shade = hv.Image(hillshade_agg.data, label='Shade (MDOW) from Gaussian')\n",
    "img_shade.options(colorbar=True).options(cmap='gray') + img_gauss.options(cmap=COLORMAP)"
   ]
  },
  {
   "cell_type": "markdown",
   "metadata": {},
   "source": [
    "## NDVI\n",
    "* Burrough, P. A., and McDonell, R. A., 1998. *Principles of Geographical Information Systems* (Oxford University Press, New York), pp 406\n",
    "\n",
    "The Normalized Difference Vegetation Index (NDVI) quantifies vegetation by measuring the difference between near-infrared (which vegetation strongly reflects) and red light (which vegetation absorbs).\n",
    "NDVI always ranges from -1 to +1. But there isn’t a distinct boundary for each type of land cover.\n",
    "For example, when you have negative values, it’s highly likely that it’s water. On the other hand, if you have a NDVI value close to +1, there’s a high possibility that it’s dense green leaves.\n",
    "But when NDVI is close to zero, there isn’t green leaves and it could even be an urbanized area."
   ]
  },
  {
   "cell_type": "code",
   "execution_count": null,
   "metadata": {},
   "outputs": [],
   "source": [
    "display(Markdown(ndvi.__doc__))"
   ]
  },
  {
   "cell_type": "code",
   "execution_count": null,
   "metadata": {},
   "outputs": [],
   "source": [
    "NIR_data = helper_do_gaussian()\n",
    "RED_data = helper_do_gaussian_inverse()\n",
    "\n",
    "da_ndvi = ndvi(NIR_data, RED_data)\n",
    "hv.Image(da_ndvi.data).options(colorbar=True).options(cmap='PRGn')"
   ]
  },
  {
   "cell_type": "markdown",
   "metadata": {},
   "source": [
    "## Real data\n",
    "\n",
    "Here we are going to see how those methods transform real images.\n",
    "The images represent the region around Austin, TX in USA, which is mountainous region and make a good example for our `hillshade` method.\n",
    "The other data set is composed by two images from the Landsat satellite, the *red* and *near-infrared* filters, which we will use for checking the `ndvi` processing effects."
   ]
  },
  {
   "cell_type": "markdown",
   "metadata": {},
   "source": [
    "## Austin terrain"
   ]
  },
  {
   "cell_type": "markdown",
   "metadata": {},
   "source": [
    "```\n",
    "import numpy as np\n",
    "import rasterio\n",
    "    \n",
    "# Austin-DEM\n",
    "austin_dem = '../data/austin_dem.tif'\n",
    "\n",
    "elevation_data = rasterio.open(austin_dem)\n",
    "elevation_xarray = xr.DataArray(elevation_data.read().astype(np.uint16))\n",
    "\n",
    "xmin = elevation_data.bounds.left\n",
    "ymin = elevation_data.bounds.bottom\n",
    "xmax = elevation_data.bounds.right\n",
    "ymax = elevation_data.bounds.top\n",
    "\n",
    "w = np.ceil(elevation_data.width / 8.0)\n",
    "h = np.ceil(elevation_data.height / 8.0)\n",
    "\n",
    "cvs = ds.Canvas(plot_width=w, plot_height=h, \n",
    "                x_range=(xmin,xmax), y_range=(ymin,ymax))\n",
    "agg = cvs.raster(elevation_xarray[0])\n",
    "hillshade(agg, out_type='data')\n",
    "```"
   ]
  },
  {
   "cell_type": "markdown",
   "metadata": {},
   "source": [
    "```\n",
    "da_elevation = xr.open_rasterio(austin_dem)\n",
    "\n",
    "# Define Datashader Canvas\n",
    "from datashader import Canvas\n",
    "from math import ceil\n",
    "\n",
    "# xmin = elevation_data.bounds.left\n",
    "xmin = da_elevation.x.min()\n",
    "\n",
    "# ymin = elevation_data.bounds.bottom\n",
    "ymin = da_elevation.y.min()\n",
    "\n",
    "# xmax = elevation_data.bounds.right\n",
    "xmax = da_elevation.x.max()\n",
    "\n",
    "# ymax = elevation_data.bounds.top\n",
    "ymax = da_elevation.y.max()\n",
    "\n",
    "# w = np.ceil(elevation_data.width / 8.0)\n",
    "w = ceil(len(da_elevation.x) / 8.0)\n",
    "\n",
    "# h = np.ceil(elevation_data.height / 8.0)\n",
    "h = ceil(len(da_elevation.y) / 8.0)\n",
    "\n",
    "cvs = Canvas(plot_width=w, plot_height=h, x_range=(xmin,xmax), y_range=(ymin,ymax))\n",
    "\n",
    "xarr = da_elevation.load()[0]\n",
    "\n",
    "# Rasterize our data according to the Canvas resolution/definitions\n",
    "agg = cvs.raster(xarr)\n",
    "```"
   ]
  },
  {
   "cell_type": "markdown",
   "metadata": {},
   "source": [
    "```\n",
    "plt.imshow(xarr.data)\n",
    "```"
   ]
  },
  {
   "cell_type": "markdown",
   "metadata": {},
   "source": [
    "```\n",
    "agg.data\n",
    "```"
   ]
  },
  {
   "cell_type": "code",
   "execution_count": null,
   "metadata": {},
   "outputs": [],
   "source": [
    "#cvs.raster?"
   ]
  },
  {
   "cell_type": "markdown",
   "metadata": {},
   "source": [
    "```\n",
    "plt.imshow(agg.data)\n",
    "```"
   ]
  },
  {
   "cell_type": "markdown",
   "metadata": {},
   "source": [
    "```\n",
    "plt.hist(elevation_xarray[0].data.flat, bins=100);\n",
    "```"
   ]
  },
  {
   "cell_type": "markdown",
   "metadata": {},
   "source": [
    "### Hillshade"
   ]
  },
  {
   "cell_type": "markdown",
   "metadata": {},
   "source": [
    "```\n",
    "austin_shade = hillshade(xr.DataArray(data_austin), out_type='data')\n",
    "```"
   ]
  },
  {
   "cell_type": "markdown",
   "metadata": {},
   "source": [
    "```\n",
    "from datashader import transfer_functions as tf\n",
    "img = tf.shade(austin_shade, cmap='gray', how='linear')\n",
    "img\n",
    "```"
   ]
  },
  {
   "cell_type": "markdown",
   "metadata": {},
   "source": [
    "```\n",
    "hv.Image(austin_shade.data, label='Austin Mountains').options(colorbar=True).options(cmap='gray')\n",
    "```"
   ]
  },
  {
   "cell_type": "markdown",
   "metadata": {},
   "source": [
    "```\n",
    "austin_shade.stack\n",
    "```"
   ]
  },
  {
   "cell_type": "markdown",
   "metadata": {},
   "source": [
    "```\n",
    "# Visualize the shade\n",
    "cmap = plt.cm.terrain\n",
    "rgba = plt.Normalize()(data_austin)\n",
    "rgba = cmap(rgba)\n",
    "rgba[..., -1] = 1 - 0.5*normalize(austin_shade.data)\n",
    "plt.imshow(rgba);\n",
    "```"
   ]
  },
  {
   "cell_type": "markdown",
   "metadata": {},
   "source": [
    "## Landsat Red/NIR"
   ]
  },
  {
   "cell_type": "markdown",
   "metadata": {},
   "source": [
    "```\n",
    "# Open the elevetaion terrain file\n",
    "#\n",
    "import rasterio\n",
    "\n",
    "# Landsat\n",
    "landsat_red = 'assets/images/MERCATOR_LC80210392016114LGN00_B4.TIF'\n",
    "landsat_nir = 'assets/images/MERCATOR_LC80210392016114LGN00_B5.TIF'\n",
    "\n",
    "with rasterio.open(landsat_red) as fp:\n",
    "    data_landsat_red = fp.read()\n",
    "\n",
    "with rasterio.open(landsat_nir) as fp:\n",
    "    data_landsat_nir = fp.read()\n",
    "\n",
    "data_landsat_red = data_landsat_red[0]\n",
    "data_landsat_nir = data_landsat_nir[0]\n",
    "print('Image shapes:', data_landsat_red.shape, data_landsat_nir.shape)\n",
    "```"
   ]
  },
  {
   "cell_type": "markdown",
   "metadata": {},
   "source": [
    "```\n",
    "img_red = hv.Image(data_landsat_red, label='Landsat Red filter').options(colorbar=True).options(cmap='Greens')\n",
    "img_nir = hv.Image(data_landsat_nir, label='Landsat NIR filter').options(colorbar=True).options(cmap='Blues')\n",
    "img_red + img_nir\n",
    "```"
   ]
  },
  {
   "cell_type": "markdown",
   "metadata": {},
   "source": [
    "```\n",
    "# Let's cut a region in the middle to have a closer view of the scene\n",
    "#\n",
    "data_landsat_red = data_landsat_red[2000:5000, 2000:5000]\n",
    "data_landsat_nir = data_landsat_nir[2000:5000, 2000:5000]\n",
    "```"
   ]
  },
  {
   "cell_type": "markdown",
   "metadata": {},
   "source": [
    "```\n",
    "img_red = hv.Image(data_landsat_red, label='Landsat Red filter').options(colorbar=True).options(cmap='Greens')\n",
    "img_nir = hv.Image(data_landsat_nir, label='Landsat NIR filter').options(colorbar=True).options(cmap='Blues')\n",
    "img_red + img_nir\n",
    "```"
   ]
  },
  {
   "cell_type": "markdown",
   "metadata": {},
   "source": [
    "As we may notice, the images intensities span quite different range of values.\n",
    "Let's apply a histogram equalization and normalize the values to have a clearer view of the scene."
   ]
  },
  {
   "cell_type": "markdown",
   "metadata": {},
   "source": [
    "```\n",
    "from datashader.transfer_functions import eq_hist\n",
    "\n",
    "data_landsat_red_eq = eq_hist(data_landsat_red)\n",
    "data_landsat_nir_eq = eq_hist(data_landsat_nir)\n",
    "````"
   ]
  },
  {
   "cell_type": "markdown",
   "metadata": {},
   "source": [
    "```\n",
    "img_red = hv.Image(data_landsat_red_eq, label='Landsat Red filter').options(colorbar=True).options(cmap='gray')\n",
    "img_nir = hv.Image(data_landsat_nir_eq, label='Landsat NIR filter').options(colorbar=True).options(cmap='gray')\n",
    "img_red + img_nir\n",
    "```"
   ]
  },
  {
   "cell_type": "markdown",
   "metadata": {},
   "source": [
    "```\n",
    "data_landsat_ndvi = ndvi(xr.DataArray(data_landsat_nir_eq), xr.DataArray(data_landsat_red_eq))\n",
    "```"
   ]
  },
  {
   "cell_type": "markdown",
   "metadata": {},
   "source": [
    "```\n",
    "hv.Image(data_landsat_ndvi.data).options(colorbar=True).options(cmap='PRGn')\n",
    "```"
   ]
  },
  {
   "cell_type": "markdown",
   "metadata": {},
   "source": [
    "The output of *NDVI* ranges from [-1,+1], where `-1` means more \"Red\" radiation while `+1` means more \"NIR\" radiation as observed by Landsat. A higher NIR radiation traces the presence of vegetation."
   ]
  }
 ],
 "metadata": {
  "language_info": {
   "name": "python",
   "pygments_lexer": "ipython3"
  }
 },
 "nbformat": 4,
 "nbformat_minor": 2
}
