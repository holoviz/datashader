{
 "cells": [
  {
   "cell_type": "markdown",
   "metadata": {},
   "source": [
    "## Visualize LiDAR Scattered Point Elevation Data\n",
    "\n",
    "This notebook uses datashader to visualize LiDAR elevation data from [the Puget Sound LiDAR consortium](http://pugetsoundlidar.ess.washington.edu/), a source of LiDAR data for the Puget Sound region of Washington, U.S.\n",
    "\n",
    "The data are downloaded in 7z archives, then unzipped and visualized below."
   ]
  },
  {
   "cell_type": "markdown",
   "metadata": {},
   "source": [
    "## Setup\n",
    "\n",
    "The following cell only needs to be run once on your new datashader conda environment.  The commands will:\n",
    "\n",
    " * Run the `download_sample_data.py` script to download LiDAR from [Puget Sound LiDAR consortium](http://pugetsoundlidar.ess.washington.edu)\n",
    " * Install `pylzma` for 7zip archive reading (the LiDAR files are .7z 7zip compressed files)\n",
    " * Make sure you're runninng `jupyter notebook` from the `examples` directory of your `datashader` clone."
   ]
  },
  {
   "cell_type": "code",
   "execution_count": null,
   "metadata": {
    "collapsed": false,
    "deletable": true,
    "editable": true
   },
   "outputs": [],
   "source": [
    "! cd datashader/examples && python download_sample_data.py\n",
    "! cd data/pylzma-0.4.8/ && python setup.py install"
   ]
  },
  {
   "cell_type": "markdown",
   "metadata": {
    "deletable": true,
    "editable": true
   },
   "source": [
    "*Grid_Coordinate_System_Name*: State Plane Coordinate System\n",
    "\n",
    "*State_Plane_Coordinate_System*: SPCS_Zone_Identifier Washington North, FIPS 4601\n",
    "\n",
    "*Lambert_Conformal_Conic*:\n",
    " * Standard_Parallel: 47.500000\n",
    " * Standard_Parallel: 48.733333\n",
    " * Longitude_of_Central_Meridian: -120.833333\n",
    " * Latitude_of_Projection_Origin: 47.000000\n",
    " * False_Easting: 1640416.666667\n",
    " * False_Northing: 0.000000\n",
    "    \n",
    "http://www.spatialreference.org/ref/esri/102348/\n",
    "\n",
    "Washington State Plane North - FIPS 4601"
   ]
  },
  {
   "cell_type": "code",
   "execution_count": null,
   "metadata": {
    "collapsed": false,
    "deletable": true,
    "editable": true
   },
   "outputs": [],
   "source": [
    "import sys\n",
    "sys.path.append('data')\n",
    "import glob\n",
    "import os\n",
    "\n",
    "from bokeh.models import WMTSTileSource\n",
    "from bokeh.models import WMTSTileSource\n",
    "from cartopy import crs as ccrs\n",
    "from dask.distributed import Client\n",
    "from holoviews.operation import datashade\n",
    "from pyproj import Proj, transform\n",
    "import dask.dataframe as dd\n",
    "import datashader as ds\n",
    "import geoviews as gv\n",
    "import geoviews as gv\n",
    "import holoviews as hv\n",
    "import numpy as np\n",
    "import rasterio as rio\n",
    "client = Client()"
   ]
  },
  {
   "cell_type": "code",
   "execution_count": null,
   "metadata": {
    "collapsed": false,
    "deletable": true,
    "editable": true
   },
   "outputs": [],
   "source": [
    "lidar_7z_dir = 'data/puget_sound_lidar-2/BE_ASCII'\n",
    "lidar_gnd_dir = 'data/puget_sound_lidar-2-gdb/BE_ASCII'\n",
    "\n",
    "def gnd_name(fname):\n",
    "    if not os.path.exists(lidar_gnd_dir):\n",
    "        os.makedirs(lidar_gnd_dir)\n",
    "    return os.path.join(lidar_gnd_dir, os.path.basename(fname))\n",
    "\n",
    "def unzip_7z(fname):\n",
    "    from py7zlib import Archive7z\n",
    "    try:\n",
    "        arc = Archive7z(open(fname, 'rb'))\n",
    "    except:\n",
    "        print('FAILED ON 7Z', fname) # q47122e3114.7z has formatting issues\n",
    "        return\n",
    "    fnames = arc.filenames\n",
    "    files = arc.files\n",
    "    for fn, fi in zip(fnames, files):\n",
    "        gnd = gnd_name(fn)\n",
    "        if os.path.exists(gnd):\n",
    "            yield gnd\n",
    "        else:\n",
    "            print('Extract', fname)\n",
    "            with open(gnd, 'wb') as f2:\n",
    "                f2.write(fi.read())\n",
    "            yield gnd\n"
   ]
  },
  {
   "cell_type": "code",
   "execution_count": null,
   "metadata": {
    "collapsed": false,
    "deletable": true,
    "editable": true,
    "scrolled": false
   },
   "outputs": [],
   "source": [
    "def unzip_all(lidar_7z_files):\n",
    "    lidar_gnd_files = []\n",
    "    for fname_7z in lidar_7z_files:\n",
    "        lidar_gnd_files.extend(unzip_7z(fname_7z))\n",
    "    return lidar_gnd_files\n"
   ]
  },
  {
   "cell_type": "code",
   "execution_count": null,
   "metadata": {
    "collapsed": false,
    "deletable": true,
    "editable": true
   },
   "outputs": [],
   "source": [
    "lidar_7z_files = glob.glob(os.path.join(lidar_7z_dir, '*7z'))\n",
    "lidar_gnd_files = unzip_all(lidar_7z_files)[:4]\n",
    "lidar_gnd_files"
   ]
  },
  {
   "cell_type": "code",
   "execution_count": null,
   "metadata": {
    "collapsed": false,
    "deletable": true,
    "editable": true
   },
   "outputs": [],
   "source": [
    "df_raw = dd.read_csv(lidar_gnd_files)"
   ]
  },
  {
   "cell_type": "code",
   "execution_count": null,
   "metadata": {
    "collapsed": false,
    "deletable": true,
    "editable": true
   },
   "outputs": [],
   "source": [
    "df_raw.head()"
   ]
  },
  {
   "cell_type": "code",
   "execution_count": null,
   "metadata": {
    "collapsed": false,
    "deletable": true,
    "editable": true
   },
   "outputs": [],
   "source": [
    "FT_2_M = 0.3048\n",
    "washington_state_plane = Proj(init='epsg:2855')\n",
    "web_mercator = Proj(init='epsg:3857')\n",
    "    \n",
    "def convert_coords(ddf):\n",
    "    lon, lat = transform(washington_state_plane, web_mercator,ddf.X.values * FT_2_M, ddf.Y.values * FT_2_M)\n",
    "    ddf['meterswest'], ddf['metersnorth'] = lon, lat \n",
    "    ddf2 = ddf[['meterswest', 'metersnorth', 'Z']].copy()\n",
    "    del ddf\n",
    "    return ddf2\n",
    "\n",
    "import dask\n",
    "import pandas as pd\n",
    "@dask.delayed\n",
    "def read_gnd(fname):\n",
    "    return convert_coords(pd.read_csv(fname))"
   ]
  },
  {
   "cell_type": "code",
   "execution_count": null,
   "metadata": {
    "collapsed": false,
    "deletable": true,
    "editable": true,
    "scrolled": false
   },
   "outputs": [],
   "source": [
    "df = dd.from_delayed([read_gnd(f) for f in lidar_gnd_files])\n",
    "df.head()"
   ]
  },
  {
   "cell_type": "code",
   "execution_count": null,
   "metadata": {
    "collapsed": false,
    "deletable": true,
    "editable": true
   },
   "outputs": [],
   "source": [
    "\n",
    "hv.notebook_extension('bokeh', width=95)\n",
    "\n",
    "%opts Overlay [width=800 height=455 xaxis=None yaxis=None show_grid=False] \n",
    "%opts Shape (fill_color=None line_width=1.5) [apply_ranges=False] \n",
    "%opts Points [apply_ranges=False] WMTS (alpha=0.5) NdOverlay [tools=['tap']]"
   ]
  },
  {
   "cell_type": "markdown",
   "metadata": {
    "deletable": true,
    "editable": true
   },
   "source": [
    "From the metadata for this Puget Sound Lidar Consortium data set:\n",
    "\n",
    "```\n",
    "West_Bounding_Coordinate: -123.12157\n",
    "East_Bounding_Coordinate: -121.78725\n",
    "North_Bounding_Coordinate: 47.94147\n",
    "South_Bounding_Coordinate: 47.35807\n",
    "```"
   ]
  },
  {
   "cell_type": "code",
   "execution_count": null,
   "metadata": {
    "collapsed": false,
    "deletable": true,
    "editable": true
   },
   "outputs": [],
   "source": [
    "kdims = ['meterswest', 'metersnorth',]\n",
    "min_x, min_y = web_mercator(-122.6, 47.4)   # From the data set metadata, but could be df.min() or .max() \n",
    "max_x, max_y = web_mercator(-122, 47.8) \n",
    "dataset = gv.Dataset(df, kdims=kdims, vdims=['Z'])\n",
    "x_range, y_range = ((min_x, max_x), (min_y, max_y))\n",
    "shade_defaults = dict(x_range=x_range, y_range=y_range, x_sampling=12, y_sampling=12, width=800, height=455)\n",
    "tri = hv.Points(dataset, kdims=kdims, vdims=['Z'])\n",
    "shaded = datashade(tri, **shade_defaults)"
   ]
  },
  {
   "cell_type": "code",
   "execution_count": null,
   "metadata": {
    "collapsed": false,
    "deletable": true,
    "editable": true
   },
   "outputs": [],
   "source": []
  },
  {
   "cell_type": "code",
   "execution_count": null,
   "metadata": {
    "collapsed": false,
    "deletable": true,
    "editable": true
   },
   "outputs": [],
   "source": [
    "tiles = gv.WMTS(WMTSTileSource(url='https://server.arcgisonline.com/ArcGIS/rest/services/World_Imagery/MapServer/tile/{Z}/{Y}/{X}.jpg'))"
   ]
  },
  {
   "cell_type": "code",
   "execution_count": null,
   "metadata": {
    "collapsed": false,
    "deletable": true,
    "editable": true,
    "scrolled": false
   },
   "outputs": [],
   "source": [
    "shaded * tiles"
   ]
  },
  {
   "cell_type": "code",
   "execution_count": null,
   "metadata": {
    "collapsed": true,
    "deletable": true,
    "editable": true
   },
   "outputs": [],
   "source": []
  }
 ],
 "metadata": {
  "kernelspec": {
   "display_name": "Python 3",
   "language": "python",
   "name": "python3"
  },
  "language_info": {
   "codemirror_mode": {
    "name": "ipython",
    "version": 3
   },
   "file_extension": ".py",
   "mimetype": "text/x-python",
   "name": "python",
   "nbconvert_exporter": "python",
   "pygments_lexer": "ipython3",
   "version": "3.6.0"
  }
 },
 "nbformat": 4,
 "nbformat_minor": 2
}
