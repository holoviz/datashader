{
 "cells": [
  {
   "cell_type": "markdown",
   "metadata": {},
   "source": [
    "# Datashader: Census + Elevation"
   ]
  },
  {
   "cell_type": "markdown",
   "metadata": {},
   "source": [
    "### Setup\n",
    "The following imports will be needed to complete the exercises or provide for an improved notebook display:"
   ]
  },
  {
   "cell_type": "code",
   "execution_count": null,
   "metadata": {},
   "outputs": [],
   "source": [
    "import numpy as np\n",
    "import pandas as pd\n",
    "import xarray as xr\n",
    "import datashader as ds\n",
    "import datashader.transfer_functions as tf\n",
    "\n",
    "from datashader.bokeh_ext import InteractiveImage\n",
    "\n",
    "from bokeh.models import Range1d\n",
    "from bokeh.plotting import Figure\n",
    "from bokeh.io import output_notebook\n",
    "\n",
    "import dask.dataframe as dd\n",
    "\n",
    "output_notebook()"
   ]
  },
  {
   "cell_type": "markdown",
   "metadata": {},
   "source": [
    "### Load Elevation Data "
   ]
  },
  {
   "cell_type": "code",
   "execution_count": null,
   "metadata": {
    "collapsed": true
   },
   "outputs": [],
   "source": [
    "# load austin elevation data\n",
    "path = './data/austin_dem.tif'\n",
    "elevation_data = xr.open_rasterio(path)"
   ]
  },
  {
   "cell_type": "markdown",
   "metadata": {},
   "source": [
    "### Load Census Data"
   ]
  },
  {
   "cell_type": "code",
   "execution_count": null,
   "metadata": {
    "collapsed": true
   },
   "outputs": [],
   "source": [
    "census_df = dd.io.parquet.read_parquet('data/census.snappy.parq')\n",
    "census_df = census_df.persist()"
   ]
  },
  {
   "cell_type": "code",
   "execution_count": null,
   "metadata": {
    "collapsed": true
   },
   "outputs": [],
   "source": [
    "def base_plot(tools='pan,wheel_zoom,reset',plot_width=900, plot_height=500, x_range=None, y_range=None, **plot_args):\n",
    "    p = Figure(tools=tools, plot_width=plot_width, plot_height=plot_height,\n",
    "        x_range=x_range, y_range=y_range, outline_line_color=None,\n",
    "        background_fill_color='black',\n",
    "        min_border=0, min_border_left=0, min_border_right=0,\n",
    "        min_border_top=0, min_border_bottom=0, **plot_args)\n",
    "\n",
    "    p.xgrid.grid_line_alpha = 0\n",
    "    p.ygrid.grid_line_alpha = 0\n",
    "    return p"
   ]
  },
  {
   "cell_type": "code",
   "execution_count": null,
   "metadata": {
    "collapsed": true
   },
   "outputs": [],
   "source": [
    "w = int(np.ceil(elevation_data.shape[2] / 8.0))\n",
    "h = int(np.ceil(elevation_data.shape[1] / 8.0))"
   ]
  },
  {
   "cell_type": "code",
   "execution_count": null,
   "metadata": {},
   "outputs": [],
   "source": [
    "res = ds.utils.calc_res(elevation_data)\n",
    "xmin, ymin, xmax, ymax = ds.utils.calc_bbox(elevation_data.x.values, elevation_data.y.values, res)"
   ]
  },
  {
   "cell_type": "code",
   "execution_count": null,
   "metadata": {
    "collapsed": true
   },
   "outputs": [],
   "source": [
    "cvs = ds.Canvas(plot_width=w,\n",
    "                plot_height=h,\n",
    "                x_range=(xmin, xmax),\n",
    "                y_range=(ymin, ymax))"
   ]
  },
  {
   "cell_type": "code",
   "execution_count": null,
   "metadata": {
    "collapsed": true
   },
   "outputs": [],
   "source": [
    "elevation_agg = cvs.raster(elevation_data)"
   ]
  },
  {
   "cell_type": "code",
   "execution_count": null,
   "metadata": {
    "collapsed": true
   },
   "outputs": [],
   "source": [
    "people = cvs.points(census_df, 'easting', 'northing', ds.count_cat('race'))"
   ]
  },
  {
   "cell_type": "code",
   "execution_count": null,
   "metadata": {
    "collapsed": true
   },
   "outputs": [],
   "source": [
    "xs, ys = np.meshgrid(people.easting, people.northing)\n",
    "\n",
    "# horizontal stack\n",
    "summary_df = pd.DataFrame()\n",
    "summary_df['x'] = xs.flatten()\n",
    "summary_df['y'] = xs.flatten()\n",
    "summary_df['elevation'] = elevation_agg.data.flatten()\n",
    "\n",
    "cats = people[people.dims[2]].values.tolist()\n",
    "for i, e in enumerate(cats):\n",
    "    summary_df[str(e)] = people[:, :, i].data.flatten().astype(float)"
   ]
  },
  {
   "cell_type": "code",
   "execution_count": null,
   "metadata": {
    "collapsed": true
   },
   "outputs": [],
   "source": [
    "def update_image(x_range, y_range, w, h):\n",
    "    cvs = ds.Canvas(plot_width=w,\n",
    "                          plot_height=h,\n",
    "                          x_range=x_range,\n",
    "                          y_range=y_range)\n",
    "    \n",
    "    white_people = cvs.points(summary_df[(summary_df.w > summary_df.h) &\n",
    "                                         (summary_df.w > summary_df.b)],\n",
    "                              'x',\n",
    "                              'elevation',\n",
    "                              ds.sum('w'))\n",
    "    \n",
    "    hispanic_people = cvs.points(summary_df[(summary_df.h > summary_df.w) &\n",
    "                                            (summary_df.h > summary_df.b)], \n",
    "                                 'x',\n",
    "                                 'elevation',\n",
    "                                 ds.sum('h'))\n",
    "    \n",
    "    black_people = cvs.points(summary_df[(summary_df.b > summary_df.w) & \n",
    "                                         (summary_df.b > summary_df.h)], \n",
    "                              'x',\n",
    "                              'elevation',\n",
    "                              ds.sum('b'))\n",
    "    \n",
    "    asian_people = cvs.points(summary_df[(summary_df.a > summary_df.w) & \n",
    "                                         (summary_df.a > summary_df.h)], \n",
    "                              'x',\n",
    "                              'elevation',\n",
    "                              ds.sum('a'))\n",
    "    \n",
    "    img = tf.stack(\n",
    "            tf.shade(white_people, cmap=['black', 'cyan'], how='eq_hist', alpha=255),\n",
    "            tf.shade(hispanic_people, cmap=['black', 'yellow'], how='eq_hist', alpha=255),\n",
    "            tf.shade(black_people, cmap=['black', 'lime'], how='eq_hist', alpha=255),\n",
    "            tf.shade(asian_people, cmap=['black', 'fuchsia'], how='eq_hist', alpha=255),\n",
    "    )\n",
    "\n",
    "    return tf.dynspread(img, .5, 10)\n",
    "\n",
    "x_range = Range1d(start=-1.102e7, end=-1.0798e7)\n",
    "elevation_plot = base_plot(x_range=x_range,\n",
    "                           y_range=(100.0, 620.0),\n",
    "                           title=\"Austin Area: Elevation from West to East symbolized by Race\")\n",
    "InteractiveImage(elevation_plot, update_image)"
   ]
  }
 ],
 "metadata": {
  "kernelspec": {
   "display_name": "Python 3",
   "language": "python",
   "name": "python3"
  },
  "language_info": {
   "codemirror_mode": {
    "name": "ipython",
    "version": 3
   },
   "file_extension": ".py",
   "mimetype": "text/x-python",
   "name": "python",
   "nbconvert_exporter": "python",
   "pygments_lexer": "ipython3",
   "version": "3.6.1"
  },
  "widgets": {
   "state": {},
   "version": "1.1.2"
  }
 },
 "nbformat": 4,
 "nbformat_minor": 1
}
