{
 "cells": [
  {
   "cell_type": "code",
   "execution_count": null,
   "metadata": {
    "collapsed": false
   },
   "outputs": [],
   "source": [
    "import numpy as np\n",
    "\n",
    "from bokeh.plotting import figure, output_notebook, show\n",
    "from bokeh.models import ColumnDataSource, CustomJS\n",
    "from bokeh.io import push_notebook\n",
    "\n",
    "output_notebook()\n",
    "        \n",
    "jscode=\"\"\"\n",
    "        // Define a callback to capture errors on the Python side\n",
    "        function callback(msg){\n",
    "            console.log(\"Python callback returned unexpected message:\", msg)\n",
    "        }\n",
    "        callbacks = {iopub: {output: callback}};\n",
    "\n",
    "        // Generate a command to execute in Python\n",
    "        var ranges = {x0: x_range.attributes.start,\n",
    "                      y0: y_range.attributes.start,\n",
    "                      x1: x_range.attributes.end,\n",
    "                      y1: y_range.attributes.end}\n",
    "        var range_str = JSON.stringify(ranges)\n",
    "        var cmd = \"%s(\" + range_str + \")\"\n",
    "        \n",
    "        // Execute the command on the Python kernel\n",
    "        var kernel = IPython.notebook.kernel;\n",
    "        kernel.execute(cmd, callbacks, {silent : false});\n",
    "\"\"\"\n",
    "\n",
    "p = figure(plot_width=400, plot_height=400, x_range=(0, 10), y_range=(0, 10))\n",
    "\n",
    "def normalize_points(ranges):\n",
    "    \"\"\"\n",
    "    Normalizes the points into the current range and\n",
    "    pushes the updated data via push_notebook.\n",
    "    \"\"\"\n",
    "    xvals = np.linspace(ranges['x0'], ranges['x1'], 100)\n",
    "    yvals = source.data['y']\n",
    "    normed = (yvals - yvals.min()) / (yvals.max()-yvals.min())\n",
    "    ranged = normed * (ranges['y1'] - ranges['y0']) + ranges['y0']\n",
    "    source.data.update({'x': xvals,  'y': ranged})\n",
    "    push_notebook()\n",
    "\n",
    "source = ColumnDataSource(data=dict(x=np.linspace(0, 10, 100), y=np.random.rand(100)*10))\n",
    "p.circle('x', 'y', source=source)\n",
    "    \n",
    "p.x_range.callback = CustomJS(\n",
    "        args=dict(source=source, x_range=p.x_range, y_range=p.y_range), code=jscode % 'normalize_points')\n",
    "p.y_range.callback = CustomJS(\n",
    "        args=dict(source=source, x_range=p.x_range, y_range=p.y_range), code=jscode % 'normalize_points')\n",
    "\n",
    "\n",
    "show(p)"
   ]
  }
 ],
 "metadata": {
  "kernelspec": {
   "display_name": "Python 2",
   "language": "python",
   "name": "python2"
  },
  "language_info": {
   "codemirror_mode": {
    "name": "ipython",
    "version": 2
   },
   "file_extension": ".py",
   "mimetype": "text/x-python",
   "name": "python",
   "nbconvert_exporter": "python",
   "pygments_lexer": "ipython2",
   "version": "2.7.11"
  }
 },
 "nbformat": 4,
 "nbformat_minor": 0
}
