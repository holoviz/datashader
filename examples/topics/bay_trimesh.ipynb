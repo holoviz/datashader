{
 "cells": [
  {
   "cell_type": "markdown",
   "metadata": {},
   "source": [
    "# Visualizing water depth into the Chesapeake and Delaware Bays\n",
    "\n",
    "Many natural phenomena exhibit wide differences in the amount they vary across space, with properties varying quickly in some regions of space, and very slowly in others. These differences can make it challenging to make feasible, accurate models using a fixed sampling grid. For instance, for hydrology modelling, areas that are largely flat and uniform can be approximated with just a few samples, while areas of sharp elevation change need many samples per unit area to have a faithful representation of how water will flow.  [Datashader](http://datashader.org)'s support for irregular triangular meshes allows datasets from such simulations to be rendered onscreen efficiently. This notebook shows an example of rendering a dataset from the Chesapeake and Delaware Bay off the US Eastern coast, using data downloaded from the [Datashader examples](https://raw.githubusercontent.com/bokeh/datashader/master/examples/README.md). Once Datashader and the dataset are installed, you can run this notebook yourself to get a live version with interactive zooming for the plots that support it.\n",
    "\n",
    "First, let's load the data file and take a look at it:"
   ]
  },
  {
   "cell_type": "code",
   "execution_count": null,
   "metadata": {},
   "outputs": [],
   "source": [
    "import datashader as ds, datashader.transfer_functions as tf, datashader.utils as du, pandas as pd\n",
    "\n",
    "fpath = '../data/Chesapeake_and_Delaware_Bays.3dm'\n",
    "df = pd.read_table(fpath, delim_whitespace=True, header=None, skiprows=1,\n",
    "                   names=('row_type', 'cmp1', 'cmp2', 'cmp3', 'val'), index_col=1)\n",
    "\n",
    "print(len(df))\n",
    "tf.Images(df.head(), df.tail())"
   ]
  },
  {
   "cell_type": "markdown",
   "metadata": {},
   "source": [
    "Here we have 1.6 million rows of data, some marked 'ND' (vertices defined as lon,lat,elevation) and others marked 'E3T' (triangles specified as indexes into the provided vertices, in order starting with 1 (i.e. like Matlab or Fortran, not typical Python)).\n",
    "\n",
    "We can extract the separate triangle and vertex arrays we need for Datashader:"
   ]
  },
  {
   "cell_type": "code",
   "execution_count": null,
   "metadata": {},
   "outputs": [],
   "source": [
    "e3t = df[df['row_type'] == 'E3T'][['cmp1', 'cmp2', 'cmp3']].values.astype(int) - 1\n",
    "nd  = df[df['row_type'] == 'ND' ][['cmp1', 'cmp2', 'cmp3']].values.astype(float)\n",
    "nd[:, 2] *= -1 # Make depth increasing\n",
    "\n",
    "verts = pd.DataFrame(nd,  columns=['x', 'y', 'z'])\n",
    "tris  = pd.DataFrame(e3t, columns=['v0', 'v1', 'v2'])\n",
    "\n",
    "print('vertices:', len(verts), 'triangles:', len(tris))"
   ]
  },
  {
   "cell_type": "markdown",
   "metadata": {},
   "source": [
    "We'll also precompute the combined mesh data structure, which doesn't much matter for this 1-million-triangle mesh, but would save time for plotting for much larger meshes:"
   ]
  },
  {
   "cell_type": "code",
   "execution_count": null,
   "metadata": {},
   "outputs": [],
   "source": [
    "%time mesh = du.mesh(verts,tris)"
   ]
  },
  {
   "cell_type": "markdown",
   "metadata": {},
   "source": [
    "We can now visualize the average depth at each location covered by this mesh (with darker colors indicating deeper areas (higher z values, since we inverted the z values above)):"
   ]
  },
  {
   "cell_type": "code",
   "execution_count": null,
   "metadata": {},
   "outputs": [],
   "source": [
    "cvs = ds.Canvas(plot_height=900, plot_width=900)\n",
    "%time agg = cvs.trimesh(verts, tris, mesh=mesh)\n",
    "tf.shade(agg)"
   ]
  },
  {
   "cell_type": "markdown",
   "metadata": {},
   "source": [
    "When working with irregular grids, it's important to understand and optimize the properties of the mesh, not just the final rendered data. Datashader makes it easy to see these properties using different aggregation functions:"
   ]
  },
  {
   "cell_type": "code",
   "execution_count": null,
   "metadata": {},
   "outputs": [],
   "source": [
    "cvs = ds.Canvas(plot_height=400, plot_width=400)\n",
    "\n",
    "tf.Images(tf.shade(cvs.trimesh(verts, tris, mesh=mesh, agg=ds.mean('z')), name=\"mean\"),\n",
    "          tf.shade(cvs.trimesh(verts, tris, mesh=mesh, agg=ds.any()),     name=\"any\"),\n",
    "          tf.shade(cvs.trimesh(verts, tris, mesh=mesh, agg=ds.count()),   name=\"count\", how='linear'),\n",
    "          tf.shade(cvs.trimesh(verts, tris, mesh=mesh, agg=ds.std('z')),  name=\"std\")).cols(2)"
   ]
  },
  {
   "cell_type": "markdown",
   "metadata": {},
   "source": [
    "Here \"any\" shows the areas of the plane that are covered by the mesh (for constructing a raster mask), \"count\" shows how many triangles are used in the calculation of each pixel (with few triangles in the offshore area in this case, and more around the complex inland geometry), and \"std\" showing how much the data varies in each pixel (highlighting regions of steep change).  \"max\" and \"min\" can also be useful for finding unexpected areas in the mesh or simulation results, e.g. deep troughs too thin to show up in the plot directly.  \n",
    "\n",
    "Note that before calling ``tf.shade()``, the result of ``cvs.trimesh`` is just an [xarray](http://xarray.pydata.org) array, and so you can run any algorithm you want on the aggregate to do automatic checking or transformation as part of a processing pipeline.\n",
    "\n",
    "By default, the results are bilinearly interpolated between values at each vertex, but if interpolation is turned off, the average of the values at each vertex is used for the entire triangle:"
   ]
  },
  {
   "cell_type": "code",
   "execution_count": null,
   "metadata": {},
   "outputs": [],
   "source": [
    "cvs = ds.Canvas(plot_height=420, plot_width=420, x_range=(-76.56, -76.46), y_range=(38.78, 38.902))\n",
    "from colorcet import bmy as c\n",
    "\n",
    "tf.Images(tf.shade(cvs.trimesh(verts, tris, mesh=mesh, interp=True),  cmap=c, name=\"Interpolated\"),\n",
    "          tf.shade(cvs.trimesh(verts, tris, mesh=mesh, interp=False), cmap=c, name=\"Raw triangles\"))"
   ]
  },
  {
   "cell_type": "markdown",
   "metadata": {},
   "source": [
    "## Interactivity and overlaying\n",
    "\n",
    "Datashader only generates arrays and images, but it is designed to be integrated with plotting libraries to provide axes, interactivity, and overlaying with other data.  Visualizing the mesh as a wireframe or colored surface is simple with [HoloViews](http://holoviews.org):"
   ]
  },
  {
   "cell_type": "code",
   "execution_count": null,
   "metadata": {},
   "outputs": [],
   "source": [
    "import holoviews as hv\n",
    "import geoviews as gv\n",
    "from holoviews import opts\n",
    "from holoviews.operation.datashader import datashade\n",
    "\n",
    "hv.extension(\"bokeh\")\n",
    "opts.defaults(\n",
    "    opts.Image(width=450, height=450),\n",
    "    opts.RGB(width=450, height=450))\n",
    "\n",
    "wireframe = datashade(hv.TriMesh((tris,verts), label=\"Wireframe\"))\n",
    "trimesh = datashade(hv.TriMesh((tris,hv.Points(verts, vdims='z')), label=\"TriMesh\"), aggregator=ds.mean('z'))\n",
    "wireframe + trimesh"
   ]
  },
  {
   "cell_type": "markdown",
   "metadata": {},
   "source": [
    "Here the underlying wireframe and triangles will be revealed if you enable the wheel-zoom tool and zoom in to either plot.\n",
    "\n",
    "As you can see, HoloViews will reveal the lon,lat coordinates associated with the trimesh. However, HoloViews does not know how to reproject the data into another space, which is crucial if you want to overlay it on a geographic map in a different coordinate system.  [GeoViews](http://geo.holoviews.org) provides this projection capability if you need it:"
   ]
  },
  {
   "cell_type": "code",
   "execution_count": null,
   "metadata": {},
   "outputs": [],
   "source": [
    "opts.defaults(opts.WMTS(width=500, height=500))\n",
    "tiles = gv.WMTS('https://maps.wikimedia.org/osm-intl/{Z}/{X}/{Y}@2x.png')\n",
    "\n",
    "%time points = gv.operation.project_points(gv.Points(verts, vdims=['z']))\n",
    "\n",
    "tiles * datashade(hv.TriMesh((tris, points)), aggregator=ds.mean('z'), precompute=True)"
   ]
  },
  {
   "cell_type": "markdown",
   "metadata": {},
   "source": [
    "Here you can enable the wheel-zoom tool in the toolbar, then use scrolling and your pointer to zoom and pan in the plot.  As always with datashader, the data is provided to the browser in only one resolution to start with, and it will be updated when you zoom in only if you have a running Python process, and are not just viewing this on a static web page."
   ]
  }
 ],
 "metadata": {
  "language_info": {
   "name": "python",
   "pygments_lexer": "ipython3"
  }
 },
 "nbformat": 4,
 "nbformat_minor": 2
}
