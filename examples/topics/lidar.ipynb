{
 "cells": [
  {
   "cell_type": "markdown",
   "metadata": {},
   "source": [
    "## Visualize Lidar Scattered Point Elevation Data\n",
    "\n",
    "This notebook uses datashader to visualize Lidar elevation data from [the Puget Sound Lidar consortium](http://pugetsoundlidar.ess.washington.edu/), a source of Lidar data for the Puget Sound region of Washington, U.S."
   ]
  },
  {
   "cell_type": "markdown",
   "metadata": {},
   "source": [
    "## Setup\n",
    "\n",
    "Run the `download_sample_data.py` script to download Lidar data from the S3 datashader examples budget. The script downloads data as a `.zip` and automatically unzips it to 25 three-column text files with the extension `.gnd`. and the zip[Puget Sound LiDAR consortium](http://pugetsoundlidar.ess.washington.edu) and other example data sets.  \n",
    "\n",
    "From your local clone of the `datashader` repository:\n",
    "```\n",
    "cd examples\n",
    "conda env create\n",
    "source activate ds \n",
    "python download_sample_data.py\n",
    "```\n",
    "Note on Windows, replace `source activate ds` with `activate ds`."
   ]
  },
  {
   "cell_type": "markdown",
   "metadata": {},
   "source": [
    "### Lidar Elevation Data\n",
    "\n",
    "Example X,Y,Z scattered point elevation data from the unpacked 7zip files (unpacked as .gnd files)"
   ]
  },
  {
   "cell_type": "markdown",
   "metadata": {},
   "source": [
    "```\n",
    "! head ../data/q47122d2101.gnd\n",
    "```\n",
    "```\n",
    "X,Y,Z\n",
    "1291149.60,181033.64,467.95\n",
    "1291113.29,181032.53,460.24\n",
    "1291065.38,181035.74,451.41\n",
    "1291113.16,181037.32,455.51\n",
    "1291116.68,181037.42,456.20\n",
    "1291162.42,181038.90,467.81\n",
    "1291111.90,181038.15,454.89\n",
    "1291066.62,181036.73,451.41\n",
    "1291019.10,181035.20,451.64\n",
    "```\n",
    "\n",
    "The Seattle area example below loads 25 `.gnd` elevation files like the one above."
   ]
  },
  {
   "cell_type": "code",
   "execution_count": null,
   "metadata": {
    "collapsed": true,
    "scrolled": false
   },
   "outputs": [],
   "source": [
    "import os\n",
    "\n",
    "from bokeh.models import WMTSTileSource\n",
    "from dask.distributed import Client\n",
    "from holoviews.operation.datashader import datashade\n",
    "from pyproj import Proj, transform\n",
    "import dask\n",
    "import dask.dataframe as dd\n",
    "import geoviews as gv\n",
    "import glob\n",
    "import holoviews as hv\n",
    "import pandas as pd\n",
    "client = Client()"
   ]
  },
  {
   "cell_type": "code",
   "execution_count": null,
   "metadata": {
    "collapsed": true
   },
   "outputs": [],
   "source": [
    "if not os.path.exists('data'):\n",
    "    raise ValueError('Run python download_sample_data.py from the examples directory first')\n",
    "LIDAR_XYZ_FILES = glob.glob(os.path.join('data', '*.gnd'))\n",
    "if not LIDAR_XYZ_FILES:\n",
    "    raise ValueError('Run python download_sample_data.py from the examples directory first')\n",
    "LIDAR_XYZ_FILES[:2]"
   ]
  },
  {
   "cell_type": "markdown",
   "metadata": {},
   "source": [
    "#### Coordinate System Metadata (for this example)\n",
    "\n",
    "*Grid_Coordinate_System_Name*: State Plane Coordinate System\n",
    "\n",
    "*State_Plane_Coordinate_System*: SPCS_Zone_Identifier Washington North, FIPS 4601\n",
    "\n",
    "*Lambert_Conformal_Conic*:\n",
    " * Standard_Parallel: 47.500000\n",
    " * Standard_Parallel: 48.733333\n",
    " * Longitude_of_Central_Meridian: -120.833333\n",
    " * Latitude_of_Projection_Origin: 47.000000\n",
    " * False_Easting: 1640416.666667\n",
    " * False_Northing: 0.000000\n",
    "    \n",
    "http://www.spatialreference.org/ref/esri/102348/\n",
    "\n",
    "Washington State Plane North - FIPS 4601"
   ]
  },
  {
   "cell_type": "code",
   "execution_count": null,
   "metadata": {
    "collapsed": true
   },
   "outputs": [],
   "source": [
    "washington_state_plane = Proj(init='epsg:2855')   # Washington State Plane North (see metadata above)\n",
    "web_mercator = Proj(init='epsg:3857')             # Mercator projection EPSG code"
   ]
  },
  {
   "cell_type": "code",
   "execution_count": null,
   "metadata": {
    "collapsed": true
   },
   "outputs": [],
   "source": [
    "FT_2_M = 0.3048    \n",
    "def convert_coords(ddf):\n",
    "    lon, lat = transform(washington_state_plane, web_mercator, ddf.X.values * FT_2_M, ddf.Y.values * FT_2_M)\n",
    "    ddf['meterswest'], ddf['metersnorth'] = lon, lat \n",
    "    ddf2 = ddf[['meterswest', 'metersnorth', 'Z']].copy()\n",
    "    del ddf\n",
    "    return ddf2\n",
    "\n",
    "@dask.delayed\n",
    "def read_gnd(fname):\n",
    "    return convert_coords(pd.read_csv(fname))"
   ]
  },
  {
   "cell_type": "markdown",
   "metadata": {},
   "source": [
    "Use web_mercator (from above) to hard-code the bounding box"
   ]
  },
  {
   "cell_type": "code",
   "execution_count": null,
   "metadata": {
    "collapsed": true
   },
   "outputs": [],
   "source": [
    "left, bottom = web_mercator(-122.32, 47.42)\n",
    "right, top = web_mercator(-122.22, 47.52) \n",
    "x_range, y_range = ((left, right), (bottom, top))"
   ]
  },
  {
   "cell_type": "code",
   "execution_count": null,
   "metadata": {
    "collapsed": true,
    "scrolled": false
   },
   "outputs": [],
   "source": [
    "df = dd.from_delayed([read_gnd(f) for f in LIDAR_XYZ_FILES])\n",
    "kdims=['meterswest', 'metersnorth',]\n",
    "dataset = gv.Dataset(df, kdims=kdims, vdims=['Z'])\n",
    "shade_defaults = dict(x_range=x_range, y_range=y_range, x_sampling=1, y_sampling=1, width=800, height=455)\n",
    "tri = hv.Points(dataset, kdims=kdims, vdims=['Z'])\n",
    "shaded = datashade(tri, **shade_defaults)\n",
    "df.head()"
   ]
  },
  {
   "cell_type": "markdown",
   "metadata": {},
   "source": [
    "Alternatively we could have done the following dask compute operations to get the bounds of the region:\n",
    "\n",
    "```\n",
    "minn, maxx = df.min().compute(), df.max().compute()\n",
    "left, bottom = map(float, (minn.meterswest, minn.metersnorth))\n",
    "right, top = map(float, (maxx.meterswest, maxx.metersnorth))\n",
    "\n",
    "```"
   ]
  },
  {
   "cell_type": "code",
   "execution_count": null,
   "metadata": {
    "collapsed": true
   },
   "outputs": [],
   "source": [
    "hv.notebook_extension('bokeh', width=95)\n",
    "\n",
    "%opts Overlay [width=800 height=800 xaxis=None yaxis=None show_grid=False] \n",
    "%opts Shape (fill_color=None line_width=1.5) [apply_ranges=False] \n",
    "%opts Points [apply_ranges=False] WMTS (alpha=0.5) NdOverlay [tools=['tap']]"
   ]
  },
  {
   "cell_type": "code",
   "execution_count": null,
   "metadata": {
    "collapsed": true
   },
   "outputs": [],
   "source": [
    "tiles = gv.WMTS(WMTSTileSource(url='https://server.arcgisonline.com/ArcGIS/rest/services/World_Imagery/MapServer/tile/{Z}/{Y}/{X}.jpg'))"
   ]
  },
  {
   "cell_type": "code",
   "execution_count": null,
   "metadata": {
    "collapsed": true,
    "scrolled": false
   },
   "outputs": [],
   "source": [
    "tiles * shaded"
   ]
  }
 ],
 "metadata": {
  "kernelspec": {
   "display_name": "Python 3",
   "language": "python",
   "name": "python3"
  },
  "language_info": {
   "codemirror_mode": {
    "name": "ipython",
    "version": 3
   },
   "file_extension": ".py",
   "mimetype": "text/x-python",
   "name": "python",
   "nbconvert_exporter": "python",
   "pygments_lexer": "ipython3",
   "version": "3.6.1"
  }
 },
 "nbformat": 4,
 "nbformat_minor": 2
}
