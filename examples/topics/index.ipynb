{
 "cells": [
  {
   "cell_type": "markdown",
   "metadata": {},
   "source": [
    "Examples of what can be done with Datashader.\n",
    "\n",
    "To learn how to use Datashader, see the [Getting Started Guide](../getting_started/index.ipynb).\n",
    "\n",
    "Detailed documentation is contained in the [User Guide](../user_guide/index.ipynb).\n",
    "\n",
    "Contents:\n",
    "\n",
    "* [census](census.ipynb)  \n",
    "   Population and racial data from the 2010 US Census visualized as scatter points.\n",
    "\n",
    "* [gerrymandering](gerrymandering.ipynb)  \n",
    "   US Congressional boundaries overlaid on 2010 US Census data.\n",
    "   \n",
    "* [landsat](landsat.ipynb)  \n",
    "   Hyperspectral satellite imaging data from Landsat8 visualized as rasters.\n",
    "\n",
    "* [lidar](lidar.ipynb)  \n",
    "   LIDAR imaging data visualized as points.\n",
    "  \n",
    "* [network packets](network_packets.ipynb)  \n",
    "   PCAP network traffic data visualized as network graphs.\n",
    "\n",
    "* [nyc taxi](nyc_taxi.ipynb)  \n",
    "   NYC Taxi data visualized as points, curves, and bars.  Uses trip data originally from the [NYC Taxi dataset](http://www.nyc.gov/html/tlc/html/about/trip_record_data.shtml)\n",
    "but preprocessed using `taxi_preprocessing_example.py` for convenience.\n",
    "   \n",
    "* [opensky](opensky.ipynb)  \n",
    "   OpenSky airplane trajectories visualized as points.\n",
    "\n",
    "* [osm-1billion](osm-1billion.ipynb)  \n",
    "   1-billion-point OpenStreetMap dataset visualized as points on a laptop, in memory.\n",
    "\n",
    "* [osm](osm.ipynb)  \n",
    "   2.7-billion-point OpenStreetMap dataset visualized as points on a laptop, out of core.\n",
    "\n",
    "* [param dashboard](param_dashboard.ipynb)  \n",
    "   30-line dashboard for datashader plots based on the Param library.\n",
    "\n",
    "* [bay trimesh](bay_trimesh.ipynb)  \n",
    "   Rendering a triangular mesh of water depths in the Chesapeake and Delaware bay areas.\n",
    "\n",
    "* [Amazon.com center distance](https://anaconda.org/defusco/amz_centers/notebook)  \n",
    "   Cities in the USA colored by their distance to the nearest Amazon.com distribution center.\n",
    "\n",
    "* [solar](solar.ipynb)  \n",
    "   Solar radiation data.\n",
    "\n",
    "* [uk_researchers](uk_researchers.ipynb)  \n",
    "   Network graph of collaborations between UK researchers.\n"
   ]
  }
 ],
 "metadata": {
  "language_info": {
   "name": "python",
   "pygments_lexer": "ipython3"
  }
 },
 "nbformat": 4,
 "nbformat_minor": 2
}
