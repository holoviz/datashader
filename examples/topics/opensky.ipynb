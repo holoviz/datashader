{
 "cells": [
  {
   "cell_type": "markdown",
   "metadata": {},
   "source": [
    "# OpenSky flight trajectories\n",
    "\n",
    "Flight path information for commercial flights is available for some regions of the USA and Europe from the crowd-sourced [OpenSky Network](https://opensky-network.org/).  OpenSky collects data from a large number of users monitoring public air-traffic control information.  Here we will use a subset of the data that was polled from their REST API at an interval of 1 minute over 4 days (September 5-13, 2016), using the scripts shown at the end of this notebook.  Unfortunately, we are not allowed to redistribute this data (1.1GB as a database, 600MB in HDF5), but you can run the scripts at the end of this notebook to collect some yourself, or else you can contact Open Sky asking for a copy of the dataset.\n",
    "\n",
    "We'll only use some of the fields provided by Open Sky, out of: *icao24, callsign, origin, time_position, time_velocity, longitude, latitude, altitude, on_ground, velocity, heading, vertical_rate, sensors, timestamp*\n",
    "\n",
    "If you are able to get a copy of the data, you can create an environment with all the packages required to run this notebook using `conda env create opensky.ipynb`, and can then switch to it using `source activate opensky` so that you can launch jupyter notebook.\n",
    "\n",
    "Here, we'll load the data and declare that some fields are categorical (which isn't information that HDF5 stores):"
   ]
  },
  {
   "cell_type": "code",
   "execution_count": null,
   "metadata": {},
   "outputs": [],
   "source": [
    "%%time\n",
    "import pandas as pd\n",
    "\n",
    "flightpaths = pd.read_hdf('data/opensky.h5', 'flights')\n",
    "flightpaths['origin']    = flightpaths.origin.astype('category')\n",
    "flightpaths['on_ground'] = flightpaths.on_ground.astype('category')\n",
    "flightpaths['ascending'] = flightpaths.ascending.astype('category')"
   ]
  },
  {
   "cell_type": "code",
   "execution_count": null,
   "metadata": {},
   "outputs": [],
   "source": [
    "flightpaths.tail()"
   ]
  },
  {
   "cell_type": "markdown",
   "metadata": {},
   "source": [
    "The default database has about 10 million points, with some metadata for each.  \n",
    "\n",
    "Now let's define a datashader-based processing pipeline to render images:"
   ]
  },
  {
   "cell_type": "code",
   "execution_count": null,
   "metadata": {
    "collapsed": true
   },
   "outputs": [],
   "source": [
    "import datashader as ds\n",
    "import datashader.transfer_functions as tf\n",
    "from colorcet import fire\n",
    "from matplotlib.colors import rgb2hex\n",
    "from matplotlib.cm import get_cmap\n",
    "\n",
    "import numpy as np\n",
    "from cartopy import crs\n",
    "\n",
    "plot_width  = 850\n",
    "plot_height = 600\n",
    "x_range = (-2.0e6, 2.5e6)\n",
    "y_range = (4.1e6, 7.8e6)\n",
    "\n",
    "def categorical_color_key(ncats,cmap):\n",
    "    \"\"\"Generate a color key from the given colormap with the requested number of colors\"\"\"\n",
    "    mapper = get_cmap(cmap)\n",
    "    return [str(rgb2hex(mapper(i))) for i in np.linspace(0, 1, ncats)]\n",
    "\n",
    "def create_image(x_range=x_range, y_range=y_range, w=plot_width, h=plot_height, \n",
    "                 aggregator=ds.count(), categorical=None, black=False, cmap=\"blue\"):\n",
    "    opts={}\n",
    "    if categorical and cmap:\n",
    "        opts['color_key'] = categorical_color_key(len(flightpaths[aggregator.column].unique()),cmap)       \n",
    "\n",
    "    cvs = ds.Canvas(plot_width=w, plot_height=h, x_range=x_range, y_range=y_range)\n",
    "    agg = cvs.line(flightpaths, 'longitude', 'latitude',  aggregator)\n",
    "    img = tf.shade(agg, cmap=cmap, **opts)\n",
    "        \n",
    "    if black: img = tf.set_background(img, 'black')\n",
    "    return img"
   ]
  },
  {
   "cell_type": "markdown",
   "metadata": {},
   "source": [
    "We can use this function to get a dump of all of the trajectory information:"
   ]
  },
  {
   "cell_type": "code",
   "execution_count": null,
   "metadata": {},
   "outputs": [],
   "source": [
    "%%time\n",
    "create_image(aggregator=ds.count(), cmap=fire, black=True)"
   ]
  },
  {
   "cell_type": "markdown",
   "metadata": {},
   "source": [
    "This plot shows all of the trajectories in this database, overlaid in a way that avoids [overplotting](https://anaconda.org/jbednar/plotting_pitfalls/notebook).  With this \"fire\" color map, a single trajectory shows up as black, while increasing levels of overlap show up as brighter colors.  \n",
    "\n",
    "A static image on its own like this is difficult to interpret, but if we overlay it on a map we can see where these flights originate, and can zoom in to see detail in specific regions:"
   ]
  },
  {
   "cell_type": "code",
   "execution_count": null,
   "metadata": {},
   "outputs": [],
   "source": [
    "from datashader.bokeh_ext import InteractiveImage\n",
    "from bokeh.plotting import figure, output_notebook\n",
    "from bokeh.tile_providers import WMTSTileSource\n",
    "\n",
    "output_notebook()\n",
    "\n",
    "def base_plot(tools='pan,wheel_zoom,reset',plot_width=plot_width, plot_height=plot_height,**plot_args):\n",
    "    p = figure(tools=tools, plot_width=plot_width, plot_height=plot_height,\n",
    "        x_range=x_range, y_range=y_range, outline_line_color=None,\n",
    "        min_border=0, min_border_left=0, min_border_right=0,\n",
    "        min_border_top=0, min_border_bottom=0, **plot_args)\n",
    "    \n",
    "    p.axis.visible = False\n",
    "    p.xgrid.grid_line_color = None\n",
    "    p.ygrid.grid_line_color = None\n",
    "    \n",
    "    return p\n",
    "\n",
    "ArcGIS=WMTSTileSource(url='http://server.arcgisonline.com/ArcGIS/rest/services/'\n",
    "                      'World_Street_Map/MapServer/tile/{Z}/{Y}/{X}.png')"
   ]
  },
  {
   "cell_type": "code",
   "execution_count": null,
   "metadata": {
    "scrolled": true
   },
   "outputs": [],
   "source": [
    "p = base_plot()\n",
    "p.add_tile(ArcGIS)\n",
    "InteractiveImage(p, create_image, aggregator=ds.count())"
   ]
  },
  {
   "cell_type": "markdown",
   "metadata": {},
   "source": [
    "E.g. try zooming in on London in the above figure, which has a lot of structure not visible in the initial rendering but visible on a zoom. Note that zooming in will only reveal more detail in the datashader plot if you are working with a live server; a static HTML view (e.g. on Anaconda Cloud) will dynamically update the underlying map plot, but not the data.  \n",
    "\n",
    "We can use the metadata associated with each trajectory to show additional information.  For instance, we can color each flight by its country of origin, using the key:\n",
    "\n",
    "* **UK** - Orange\n",
    "* **Germany** - Blue\n",
    "* **Netherland** - Teal\n",
    "* **Switzerland** - Yellow\n",
    "* **France** - Purple\n",
    "* **Norway** - Green\n",
    "* **USA** - Red\n",
    "\n",
    "(There are actually more than a hundred different origins, so this key is only approximate.)"
   ]
  },
  {
   "cell_type": "code",
   "execution_count": null,
   "metadata": {},
   "outputs": [],
   "source": [
    "p = base_plot()\n",
    "p.add_tile(ArcGIS)\n",
    "InteractiveImage(p, create_image, categorical=True, aggregator=ds.count_cat('origin'), cmap='hsv_r')"
   ]
  },
  {
   "cell_type": "markdown",
   "metadata": {},
   "source": [
    "Or we can label ascending (Blue) vs. descending flights (Red), which is particularly informative when zooming in on specific airports:"
   ]
  },
  {
   "cell_type": "code",
   "execution_count": null,
   "metadata": {
    "scrolled": false
   },
   "outputs": [],
   "source": [
    "p = base_plot()\n",
    "p.add_tile(ArcGIS)\n",
    "InteractiveImage(p, create_image, aggregator=ds.count_cat('ascending'), cmap=None)"
   ]
  },
  {
   "cell_type": "markdown",
   "metadata": {},
   "source": [
    "Or we can show velocity, which of course decreases (dark colors) when approaching or leaving airports:"
   ]
  },
  {
   "cell_type": "code",
   "execution_count": null,
   "metadata": {},
   "outputs": [],
   "source": [
    "p = base_plot()\n",
    "p.add_tile(ArcGIS)\n",
    "InteractiveImage(p, create_image, aggregator=ds.mean('velocity'), cmap=fire)"
   ]
  },
  {
   "cell_type": "markdown",
   "metadata": {},
   "source": [
    "The flight patterns associated with each airport are clearly visible in these close-ups of various cities, where the circular holding pattern for landings (red) is clearly visible for the various airports in London:"
   ]
  },
  {
   "cell_type": "code",
   "execution_count": null,
   "metadata": {},
   "outputs": [],
   "source": [
    "import holoviews as hv\n",
    "hv.notebook_extension()"
   ]
  },
  {
   "cell_type": "code",
   "execution_count": null,
   "metadata": {
    "scrolled": false
   },
   "outputs": [],
   "source": [
    "%%output dpi=140\n",
    "%%opts RGB [xaxis=None yaxis=None] Layout [hspace=0.1 vspace=0 sublabel_format=None]\n",
    "\n",
    "def to_rgb(img):\n",
    "    return np.flipud(img.view(dtype=np.uint8).reshape(img.shape[:2] + (4,)))\n",
    "\n",
    "cities = {'Frankfurt' : (8.6821, 50.1109),\n",
    "          'London'    : (-0.1278, 51.5074), \n",
    "          'Paris'     : (2.3522, 48.8566),\n",
    "          'Amsterdam' : (4.8952, 52.3702),\n",
    "          'Zurich'    : (8.5417, 47.3769),\n",
    "          'Munich'    : (11.5820, 48.1351)}\n",
    "\n",
    "radius = 150000\n",
    "\n",
    "mercator_cities = {city: crs.GOOGLE_MERCATOR.transform_point(lon, lat, crs.PlateCarree()) \n",
    "                   for city, (lon, lat) in cities.items()}\n",
    "city_ranges = {city: dict(x_range=(lon-radius, lon+radius), y_range=(lat-radius, lat+radius))\n",
    "               for city, (lon, lat) in mercator_cities.items()}\n",
    "\n",
    "hv.Layout([hv.RGB(to_rgb(create_image(aggregator=ds.count_cat('ascending'), black=True,\n",
    "                                      categorical=True, w=300, h=300, cmap=None, **ranges).data), group=city)\n",
    "                    for city, ranges in sorted(city_ranges.items())]).cols(3)"
   ]
  },
  {
   "cell_type": "markdown",
   "metadata": {},
   "source": [
    "Or colorized by flight origin:"
   ]
  },
  {
   "cell_type": "code",
   "execution_count": null,
   "metadata": {
    "scrolled": false
   },
   "outputs": [],
   "source": [
    "%%output dpi=140\n",
    "%%opts RGB [xaxis=None yaxis=None] Layout [hspace=0.1 vspace=0 sublabel_format=None]\n",
    "\n",
    "hv.Layout([hv.RGB(to_rgb(create_image(aggregator=ds.count_cat('origin'), black=True,\n",
    "                                      categorical=True, w=300, h=300, cmap='hsv_r', **ranges).data), group=city)\n",
    "                    for city, ranges in sorted(city_ranges.items())]).display('all').cols(3)"
   ]
  },
  {
   "cell_type": "markdown",
   "metadata": {},
   "source": [
    "The patterns for a single city can make a nice wallpaper for your desktop if you wish:"
   ]
  },
  {
   "cell_type": "code",
   "execution_count": null,
   "metadata": {
    "scrolled": false
   },
   "outputs": [],
   "source": [
    "city,ranges = \"Zurich\",city_ranges[\"Zurich\"]\n",
    "create_image(aggregator=ds.count_cat('origin'), black=False,\n",
    "                           categorical=True, w=800, h=800, cmap='hsv_r', **ranges)"
   ]
  },
  {
   "cell_type": "markdown",
   "metadata": {},
   "source": [
    "As you can see, datashader makes it quite easy to explore even large databases of trajectory information, without trial and error parameter setting and experimentation.  These examples have millions of datapoints, but it could work with [billions](http://anaconda.org/jbednar/osm/notebook) just as easily, covering long time ranges or large geographic areas. Check out the other [datashader notebooks](http://anaconda.org/jbednar/notebooks) for other examples!\n",
    "\n",
    "\n",
    "## Downloading and preparing the data\n",
    "\n",
    "This data was obtained by running a cron job with the following script running at one-minute intervals over a four-day period:"
   ]
  },
  {
   "cell_type": "markdown",
   "metadata": {},
   "source": [
    "```python\n",
    "import json\n",
    "import sqlite3\n",
    "import requests\n",
    "import pandas as pd\n",
    "\n",
    "DB='data/flight.db'\n",
    "conn = sqlite3.connect(DB)\n",
    "api_url = 'https://opensky-network.org/api/states/all'\n",
    "\n",
    "cols = ['icao24', 'callsign', 'origin', 'time_position',\n",
    "        'time_velocity', 'longitude', 'latitude',\n",
    "        'altitude', 'on_ground', 'velocity', 'heading',\n",
    "        'vertical_rate', 'sensors']\n",
    "\n",
    "req = requests.get(api_url)\n",
    "content = json.loads(req.content)\n",
    "states = content['states']\n",
    "df = pd.DataFrame(states, columns=cols)\n",
    "df['timestamp'] = content['time']\n",
    "df.to_sql('flights', conn, index=False, if_exists='append')\n",
    "```"
   ]
  },
  {
   "cell_type": "markdown",
   "metadata": {},
   "source": [
    "The resulting `flight.db` file was then transformed into Web Mercator coordinates, split per flight, and exported to HDF5 format, using the code below.  This process took about 7 minutes on a MacBook Pro laptop."
   ]
  },
  {
   "cell_type": "markdown",
   "metadata": {},
   "source": [
    "```python\n",
    "import sqlite3\n",
    "import pandas as pd\n",
    "import numpy as np\n",
    "import holoviews as hv\n",
    "from cartopy import crs\n",
    "\n",
    "def transform_coords(df):\n",
    "    df = df.copy()\n",
    "    lons = np.array(df['longitude'])\n",
    "    lats = np.array(df['latitude'])\n",
    "    coords = crs.GOOGLE_MERCATOR.transform_points(crs.PlateCarree(), lons, lats)\n",
    "    df['longitude'] = coords[:, 0]\n",
    "    df['latitude']  = coords[:, 1]\n",
    "    return df\n",
    "\n",
    "def split_flights(dataset):\n",
    "    df = dataset.data.copy().reset_index(drop=True)\n",
    "    df = df[np.logical_not(df.time_position.isnull())]\n",
    "    empty=df[:1].copy()\n",
    "    empty.loc[0, :] = (np.NaN,)*14\n",
    "    paths = []\n",
    "    for gid, group in df.groupby('icao24'):\n",
    "        times = group.time_position\n",
    "        for split_df in np.split(group.reset_index(drop=True), np.where(times.diff()>600)[0]):\n",
    "            if len(split_df) > 20:\n",
    "                paths += [split_df, empty]\n",
    "    split = pd.concat(paths,ignore_index=True)\n",
    "    split['ascending'] = split.vertical_rate>0\n",
    "    return split\n",
    "\n",
    "# Load the data from a SQLite database and apply the transforms\n",
    "DB='data/flight.db'\n",
    "conn = sqlite3.connect(DB)\n",
    "dataset = hv.Dataset(transform_coords(pd.read_sql(\"SELECT * from flights\", conn)))\n",
    "flightpaths = split_flights(dataset)\n",
    "\n",
    "# Remove unused columns\n",
    "flightpaths=flightpaths[['longitude', 'latitude', 'origin', 'on_ground', 'ascending','velocity']]\n",
    "flightpaths['origin']=flightpaths.origin.astype(str)\n",
    "\n",
    "# Save as hdf5 format\n",
    "flightpaths.to_hdf(\"data/opensky.h5\",\"flights\")\n",
    "```"
   ]
  }
 ],
 "metadata": {
  "anaconda-cloud": {},
  "environment": {
   "channels": [
    "defaults"
   ],
   "dependencies": [
    "appnope=0.1.0=py27_0",
    "bokeh::bokeh=0.12.2=py_1",
    "bokeh::click=3.3=py27_0",
    "bokeh::datashader=0.4.0=py27_0",
    "boto3=1.3.1=py27_0",
    "conda-forge::backports.shutil_get_terminal_size=1.0.0=py27_0",
    "conda-forge::backports_abc=0.4=py27_0",
    "conda-forge::botocore=1.4.49=py27_0",
    "conda-forge::bottleneck=1.0.0=np111py27_0",
    "conda-forge::ca-certificates=2016.8.31=0",
    "conda-forge::cartopy=0.14.2=np111py27_1",
    "conda-forge::certifi=2016.8.31=py27_0",
    "conda-forge::cloudpickle=0.2.1=py27_2",
    "conda-forge::configparser=3.5.0b2=py27_0",
    "conda-forge::curl=7.49.1=1",
    "conda-forge::cycler=0.10.0=py27_0",
    "conda-forge::cyordereddict=1.0.0=py27_1",
    "conda-forge::dask=0.11.0=py27_0",
    "conda-forge::decorator=4.0.10=py27_0",
    "conda-forge::distributed=1.13.2=py27_0",
    "conda-forge::docutils=0.12=py27_0",
    "conda-forge::entrypoints=0.2.2=py27_0",
    "conda-forge::enum34=1.1.6=py27_1",
    "conda-forge::freetype=2.6.3=1",
    "conda-forge::funcsigs=1.0.2=py27_0",
    "conda-forge::functools32=3.2.3.2=py27_1",
    "conda-forge::futures=3.0.5=py27_0",
    "conda-forge::geos=3.4.2=2",
    "conda-forge::h5netcdf=0.3.1=py27_0",
    "conda-forge::h5py=2.6.0=np111py27_6",
    "conda-forge::hdf4=4.2.12=0",
    "conda-forge::hdf5=1.8.17=4",
    "conda-forge::heapdict=1.0.0=py27_0",
    "conda-forge::icu=56.1=4",
    "conda-forge::ipykernel=4.5.0=py27_0",
    "conda-forge::ipython=5.1.0=py27_0",
    "conda-forge::ipython_genutils=0.1.0=py27_0",
    "conda-forge::ipywidgets=5.2.2=py27_0",
    "conda-forge::jinja2=2.8=py27_1",
    "conda-forge::jmespath=0.9.0=py27_0",
    "conda-forge::jpeg=9b=0",
    "conda-forge::jsonschema=2.5.1=py27_0",
    "conda-forge::jupyter_client=4.4.0=py27_0",
    "conda-forge::jupyter_console=5.0.0=py27_0",
    "conda-forge::jupyter_core=4.2.0=py27_0",
    "conda-forge::libgfortran=3.0.0=0",
    "conda-forge::libiconv=1.14=3",
    "conda-forge::libnetcdf=4.4.1=0",
    "conda-forge::libpng=1.6.24=0",
    "conda-forge::libsodium=1.0.10=0",
    "conda-forge::libtiff=4.0.6=6",
    "conda-forge::libxml2=2.9.4=1",
    "conda-forge::libxslt=1.1.29=1",
    "conda-forge::locket=0.2.0=py27_0",
    "conda-forge::lxml=3.6.4=py27_0",
    "conda-forge::markupsafe=0.23=py27_0",
    "conda-forge::matplotlib=1.5.3=np111py27_0",
    "conda-forge::mistune=0.7.3=py27_0",
    "conda-forge::mock=2.0.0=py27_0",
    "conda-forge::multipledispatch=0.4.8=py27_0",
    "conda-forge::nbconvert=4.2.0=py27_0",
    "conda-forge::nbformat=4.1.0=py27_0",
    "conda-forge::ncurses=5.9=9",
    "conda-forge::netcdf4=1.2.4=np111py27_2",
    "conda-forge::nose=1.3.7=py27_2",
    "conda-forge::notebook=4.2.3=py27_0",
    "conda-forge::openssl=1.0.2h=2",
    "conda-forge::owslib=0.12.0=py27_0",
    "conda-forge::pandas=0.18.1=np111py27_1",
    "conda-forge::partd=0.3.6=py27_0",
    "conda-forge::pathlib2=2.1.0=py27_0",
    "conda-forge::pbr=1.10.0=py27_0",
    "conda-forge::pexpect=4.2.0=py27_1",
    "conda-forge::pickleshare=0.7.3=py27_0",
    "conda-forge::pillow=3.3.1=py27_0",
    "conda-forge::pip=8.1.2=py27_0",
    "conda-forge::proj.4=4.9.2=0",
    "conda-forge::prompt_toolkit=1.0.7=py27_0",
    "conda-forge::psutil=4.3.0=py27_0",
    "conda-forge::ptyprocess=0.5.1=py27_0",
    "conda-forge::pyepsg=0.3.1=py27_0",
    "conda-forge::pygments=2.1.3=py27_1",
    "conda-forge::pyparsing=2.1.8=py27_0",
    "conda-forge::pyproj=1.9.5.1=py27_0",
    "conda-forge::pyqt=4.11.4=py27_0",
    "conda-forge::pyshp=1.2.3=py27_0",
    "conda-forge::python=2.7.12=1",
    "conda-forge::python-dateutil=2.5.3=py27_0",
    "conda-forge::pytz=2016.6.1=py27_0",
    "conda-forge::pyyaml=3.11=py27_0",
    "conda-forge::pyzmq=15.4.0=py27_0",
    "conda-forge::qtconsole=4.2.1=py27_0",
    "conda-forge::readline=6.2=0",
    "conda-forge::requests=2.11.1=py27_0",
    "conda-forge::s3fs=0.0.7=py27_0",
    "conda-forge::setuptools=26.1.1=py27_0",
    "conda-forge::shapely=1.5.17=np111py27_0",
    "conda-forge::simplegeneric=0.8.1=py27_0",
    "conda-forge::singledispatch=3.4.0.3=py27_0",
    "conda-forge::sip=4.18=py27_0",
    "conda-forge::six=1.10.0=py27_0",
    "conda-forge::sqlite=3.13.0=1",
    "conda-forge::ssl_match_hostname=3.5.0.1=py27_0",
    "conda-forge::terminado=0.6=py27_0",
    "conda-forge::tk=8.5.19=0",
    "conda-forge::toolz=0.8.0=py27_0",
    "conda-forge::tornado=4.4.1=py27_1",
    "conda-forge::traitlets=4.3.0=py27_0",
    "conda-forge::wcwidth=0.1.7=py27_0",
    "conda-forge::wheel=0.29.0=py27_0",
    "conda-forge::widgetsnbextension=1.2.6=py27_3",
    "conda-forge::xarray=0.8.2=py27_0",
    "conda-forge::xz=5.2.2=0",
    "conda-forge::yaml=0.1.6=0",
    "conda-forge::zeromq=4.1.5=0",
    "conda-forge::zict=0.0.3=py27_0",
    "conda-forge::zlib=1.2.8=3",
    "datashape=0.5.2=py27_0",
    "futures-compat=1.0=py2_0",
    "ioam::holoviews=1.6.2=py27_0",
    "ioam::param=1.4.1=py27_0",
    "jupyter=1.0.0=py27_3",
    "llvmlite=0.13.0=py27_0",
    "mkl=11.3.3=0",
    "msgpack-python=0.4.7=py27_0",
    "networkx=1.11=py27_0",
    "numba=0.28.1=np111py27_0",
    "numexpr=2.6.1=np111py27_0",
    "numpy=1.11.1=py27_0",
    "pytables=3.2.3.1=np111py27_0",
    "python.app=1.2=py27_4",
    "qt=4.8.7=4",
    "scipy=0.18.1=np111py27_0",
    "tblib=1.3.0=py27_0",
    {
     "pip": [
      "backports-abc==0.4",
      "backports.shutil-get-terminal-size==1.0.0",
      "backports.ssl-match-hostname==3.5.0.1",
      "bokeh==0.12.2",
      "botocore==1.4.49",
      "bottleneck==1.0.0",
      "cartopy==0.14.0",
      "certifi==2016.8.31",
      "click==3.3",
      "cloudpickle==0.2.1",
      "configparser==3.5.0b2",
      "cycler==0.10.0",
      "cyordereddict==1.0.0",
      "dask==0.11.0",
      "datashader==0.4.0",
      "decorator==4.0.10",
      "distributed==1.13.2",
      "docutils==0.12",
      "enum34==1.1.6",
      "funcsigs==1.0.2",
      "functools32==3.2.3.post2",
      "futures==3.0.5",
      "h5netcdf==0.3.1",
      "h5py==2.6.0",
      "heapdict==1.0.0",
      "holoviews==1.6.2",
      "ipykernel==4.5.0",
      "ipython==5.1.0",
      "ipython-genutils==0.1.0",
      "ipywidgets==5.2.2",
      "jinja2==2.8",
      "jmespath==0.9.0",
      "jsonschema==2.5.1",
      "jupyter-client==4.4.0",
      "jupyter-console==5.0.0",
      "jupyter-core==4.2.0",
      "locket==0.2.0",
      "lxml==3.6.4",
      "markupsafe==0.23",
      "matplotlib==1.5.3",
      "mistune==0.7.3",
      "mock==2.0.0",
      "multipledispatch==0.4.8",
      "nbconvert==4.2.0",
      "nbformat==4.1.0",
      "netcdf4==1.2.4",
      "nose==1.3.7",
      "notebook==4.2.3",
      "owslib==0.12.0",
      "pandas==0.18.1",
      "param==1.4.1",
      "partd==0.3.6",
      "pathlib2==2.1.0",
      "pbr==1.10.0",
      "pexpect==4.2.0",
      "pickleshare==0.7.3",
      "pillow==3.3.1",
      "pip==8.1.2",
      "prompt-toolkit==1.0.7",
      "psutil==4.3.0",
      "ptyprocess==0.5.1",
      "pyepsg==0.3.1",
      "pygments==2.1.3",
      "pyparsing==2.1.8",
      "pyproj==1.9.5.1",
      "pyshp==1.2.3",
      "python-dateutil==2.5.3",
      "pytz==2016.6.1",
      "pyyaml==3.11",
      "pyzmq==15.4.0",
      "qtconsole==4.2.1",
      "requests==2.11.1",
      "s3fs==0.0.7",
      "setuptools==26.1.1.post20160901",
      "shapely==1.5.17",
      "simplegeneric==0.8.1",
      "singledispatch==3.4.0.3",
      "six==1.10.0",
      "tables==3.2.3.1",
      "terminado==0.6",
      "toolz==0.8.0",
      "tornado==4.4.1",
      "traitlets==4.3.0",
      "wcwidth==0.1.7",
      "wheel==0.29.0",
      "widgetsnbextension==1.2.6",
      "xarray==0.8.2",
      "zict==0.0.3"
     ]
    }
   ],
   "name": "opensky",
   "prefix": "/Users/jbednar/anaconda/envs/opensky"
  },
  "hide_input": false,
  "kernelspec": {
   "display_name": "Python 3",
   "language": "python",
   "name": "python3"
  },
  "language_info": {
   "codemirror_mode": {
    "name": "ipython",
    "version": 3
   },
   "file_extension": ".py",
   "mimetype": "text/x-python",
   "name": "python",
   "nbconvert_exporter": "python",
   "pygments_lexer": "ipython3",
   "version": "3.6.1"
  }
 },
 "nbformat": 4,
 "nbformat_minor": 1
}
