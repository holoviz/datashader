{
 "cells": [
  {
   "cell_type": "markdown",
   "metadata": {
    "extensions": {
     "jupyter_dashboards": {
      "version": 1,
      "views": {
       "grid_default": {
        "col": 0,
        "height": 2,
        "hidden": false,
        "row": 0,
        "width": 10
       },
       "report_default": {}
      }
     }
    }
   },
   "source": [
    "## NYC Taxi trips, with [Datashader](https://github.com/bokeh/datashader),  [HoloViews](http://holoviews.org), [GeoViews](https://github.com/ioam/geoviews/blob/master/README.md#installation) and [ParamNB](https://anaconda.org/jbednar/paramnb)"
   ]
  },
  {
   "cell_type": "markdown",
   "metadata": {
    "extensions": {
     "jupyter_dashboards": {
      "version": 1,
      "views": {
       "grid_default": {
        "col": 0,
        "height": 9,
        "hidden": true,
        "row": 0,
        "width": 12
       },
       "report_default": {}
      }
     }
    }
   },
   "source": [
    "The InteractiveImage command provided with [datashader](https://github.com/bokeh/datashader) makes it simple to make an interactive plot of a very large dataset, but very often one will want to add additional interactive controls to filter your data, select columns for plotting, etc., which is not supported by InteractiveImage.  One way to do that is to use [ParamNB](https://anaconda.org/jbednar/paramnb) to instantiate some parameters and then have it run the subsequent cell whenever one of those parameters changes (via ``paramnb.Widgets(...,next_n=1)``).\n",
    "\n",
    "This notebook illustrates a cleaner way using a [HoloViews](http://holoviews.org) stream to connect the widgets and the plot. Requires ``conda install -c ioam/label/dev holoviews paramnb`` and installing [GeoViews](https://github.com/ioam/geoviews/blob/master/README.md#installation) (which is only important for the map tile support).\n",
    "\n",
    "## Setup"
   ]
  },
  {
   "cell_type": "code",
   "execution_count": null,
   "metadata": {
    "extensions": {
     "jupyter_dashboards": {
      "version": 1,
      "views": {
       "grid_default": {
        "col": 0,
        "height": 11,
        "hidden": true,
        "row": 9,
        "width": 7
       },
       "report_default": {}
      }
     }
    }
   },
   "outputs": [],
   "source": [
    "import holoviews as hv\n",
    "import geoviews as gv\n",
    "import param, paramnb\n",
    "import pandas as pd\n",
    "\n",
    "from colorcet import cm\n",
    "from bokeh.models import WMTSTileSource\n",
    "from holoviews.operation.datashader import datashade\n",
    "from holoviews.streams import RangeXY\n",
    "\n",
    "hv.notebook_extension('bokeh')\n",
    "\n",
    "%time df = pd.read_csv('../data/nyc_taxi.csv', usecols = ['passenger_count', \\\n",
    "                       'pickup_x', 'pickup_y', 'dropoff_x', 'dropoff_y'])\n",
    "df.tail()"
   ]
  },
  {
   "cell_type": "markdown",
   "metadata": {
    "extensions": {
     "jupyter_dashboards": {
      "version": 1,
      "views": {
       "grid_default": {
        "col": 4,
        "height": 4,
        "hidden": true,
        "row": 21,
        "width": 4
       },
       "report_default": {}
      }
     }
    }
   },
   "source": [
    "# Interactive plot"
   ]
  },
  {
   "cell_type": "code",
   "execution_count": null,
   "metadata": {
    "extensions": {
     "jupyter_dashboards": {
      "version": 1,
      "views": {
       "grid_default": {
        "col": 0,
        "height": 21,
        "hidden": false,
        "row": 2,
        "width": 10
       },
       "report_default": {}
      }
     }
    }
   },
   "outputs": [],
   "source": [
    "tiles = gv.WMTS(WMTSTileSource(url='https://server.arcgisonline.com/ArcGIS/rest/services/'\n",
    "                                   'World_Imagery/MapServer/tile/{Z}/{Y}/{X}.jpg'))\n",
    "tile_options = dict(width=800,height=475,xaxis=None,yaxis=None,bgcolor='black',show_grid=False)  \n",
    "\n",
    "passenger_counts = sorted(df.passenger_count.unique().tolist())\n",
    "\n",
    "class Options(hv.streams.Stream):\n",
    "    alpha       = param.Magnitude(default=0.75, doc=\"Alpha value for the map opacity\")\n",
    "    colormap    = param.ObjectSelector(default=cm[\"fire\"], objects=cm.values())\n",
    "    plot        = param.ObjectSelector(default=\"pickup\",   objects=[\"pickup\",\"dropoff\"])\n",
    "    passengers  = param.ObjectSelector(default=1,          objects=passenger_counts)\n",
    "    \n",
    "    def make_view(self, x_range=None, y_range=None, **kwargs):\n",
    "        map_tiles = tiles(style=dict(alpha=self.alpha), plot=tile_options) \n",
    "\n",
    "        df_filt = df[df.passenger_count==self.passengers]\n",
    "        points = hv.Points(gv.Dataset(df_filt, kdims=[self.plot+'_x', self.plot+'_y'], vdims=[]))\n",
    "        taxi_trips = datashade(points, width=800, height=475, x_sampling=1, y_sampling=1, \n",
    "                               cmap=self.colormap, element_type=gv.Image,\n",
    "                               dynamic=False, x_range=x_range, y_range=y_range)\n",
    "                \n",
    "        return map_tiles * taxi_trips\n",
    "\n",
    "selector = Options(name=\"\")\n",
    "paramnb.Widgets(selector, callback=selector.update)\n",
    "hv.DynamicMap(selector.make_view, kdims=[], streams=[selector, RangeXY()])"
   ]
  },
  {
   "cell_type": "markdown",
   "metadata": {
    "extensions": {
     "jupyter_dashboards": {
      "version": 1,
      "views": {
       "grid_default": {
        "col": 0,
        "height": 4,
        "hidden": true,
        "row": 23,
        "width": 12
       },
       "report_default": {}
      }
     }
    }
   },
   "source": [
    "If you are viewing a static copy of this page through Anaconda Cloud, the interactive controls will not be usable, but you can download a copy of this notebook and run it through Jupyter notebook for the interactive version.  You can also view the controls and the image as a deployable dashboard using [Jupyter Dashboards](https://github.com/jupyter/dashboards), which can be installed separately using ``conda install -c conda-forge jupyter_dashboards``.  Jupyter Dashboards is a Jupyter extension that lets you choose which cells to publish to a dashboard layout, with the result like this [screenshot](https://raw.githubusercontent.com/bokeh/datashader/master/docs/images/nyc_taxi-paramnb.png) that can be deployed as a standalone server."
   ]
  },
  {
   "cell_type": "markdown",
   "metadata": {
    "extensions": {
     "jupyter_dashboards": {
      "version": 1,
      "views": {
       "grid_default": {
        "col": 0,
        "height": 5,
        "hidden": true,
        "row": 23,
        "width": 12
       },
       "report_default": {}
      }
     }
    }
   },
   "source": [
    "<br>\n",
    "<br>\n",
    "<br>\n",
    "<br>\n",
    "<br>\n",
    "<br>\n",
    "<br>\n",
    "<br>\n",
    "<br>\n",
    "\n",
    "# How does it work?\n",
    "\n",
    "In this example, we define a class that declares certain parameters whose value a user might wish to change, with defaults, ranges, and documentation if desired.  We then add a method ``make_view`` that constructs a HoloViews object using the values of these parameters, and we instantiate our new class as an object:"
   ]
  },
  {
   "cell_type": "code",
   "execution_count": null,
   "metadata": {
    "extensions": {
     "jupyter_dashboards": {
      "version": 1,
      "views": {
       "grid_default": {
        "hidden": true
       },
       "report_default": {}
      }
     }
    }
   },
   "outputs": [],
   "source": [
    "selector2 = Options(name=\"\")\n",
    "selector2"
   ]
  },
  {
   "cell_type": "markdown",
   "metadata": {
    "extensions": {
     "jupyter_dashboards": {
      "version": 1,
      "views": {
       "grid_default": {
        "col": 0,
        "height": 4,
        "hidden": true,
        "row": 23,
        "width": 4
       },
       "report_default": {}
      }
     }
    }
   },
   "source": [
    "Here we could change the values of the parameters manually if we wanted:"
   ]
  },
  {
   "cell_type": "code",
   "execution_count": null,
   "metadata": {
    "extensions": {
     "jupyter_dashboards": {
      "version": 1,
      "views": {
       "grid_default": {
        "col": 4,
        "height": 4,
        "hidden": true,
        "row": 23,
        "width": 4
       },
       "report_default": {}
      }
     }
    }
   },
   "outputs": [],
   "source": [
    "selector2.alpha=0.2\n",
    "selector2.plot='dropoff'\n",
    "selector2"
   ]
  },
  {
   "cell_type": "markdown",
   "metadata": {
    "extensions": {
     "jupyter_dashboards": {
      "version": 1,
      "views": {
       "grid_default": {
        "col": 0,
        "height": 4,
        "hidden": true,
        "row": 23,
        "width": 4
       },
       "report_default": {}
      }
     }
    }
   },
   "source": [
    "But we'd rather have some interactive controls, so let's make some ipywidgets for the parameters, using ParamNB:"
   ]
  },
  {
   "cell_type": "code",
   "execution_count": null,
   "metadata": {
    "extensions": {
     "jupyter_dashboards": {
      "version": 1,
      "views": {
       "grid_default": {
        "col": 0,
        "height": 7,
        "hidden": true,
        "row": 23,
        "width": 5
       },
       "report_default": {}
      }
     }
    }
   },
   "outputs": [],
   "source": [
    "paramnb.Widgets(selector2, callback=selector2.update)"
   ]
  },
  {
   "cell_type": "markdown",
   "metadata": {
    "extensions": {
     "jupyter_dashboards": {
      "version": 1,
      "views": {
       "grid_default": {
        "col": 0,
        "height": 4,
        "hidden": true,
        "row": 23,
        "width": 12
       },
       "report_default": {}
      }
     }
    }
   },
   "source": [
    "Now we have widgets that change the corresponding parameters on `selector2`.  Plus, whenever those values change, `Widgets` will call `selector2.update()`. But at this point, that method call does nothing, because we haven't registered anything with `selector2` to watch for such events.\n",
    "\n",
    "So, now we need to make something that could register for such events and generate the corresponding plot. Just getting a plot is simple, using the method we defined already:"
   ]
  },
  {
   "cell_type": "code",
   "execution_count": null,
   "metadata": {
    "extensions": {
     "jupyter_dashboards": {
      "version": 1,
      "views": {
       "grid_default": {
        "col": 4,
        "height": 8,
        "hidden": true,
        "row": 23,
        "width": 4
       },
       "report_default": {}
      }
     }
    }
   },
   "outputs": [],
   "source": [
    "%%output size=40\n",
    "selector2.make_view()"
   ]
  },
  {
   "cell_type": "markdown",
   "metadata": {
    "extensions": {
     "jupyter_dashboards": {
      "version": 1,
      "views": {
       "grid_default": {
        "col": 0,
        "height": 13,
        "hidden": true,
        "row": 23,
        "width": 12
       },
       "report_default": {}
      }
     }
    }
   },
   "source": [
    "This makes a HoloViews \"view\" object, which is then automatically turned into a Bokeh plot in a Jupyter notebook.  But this plot won't dynamically update when the widgets are adjusted; it just respects whatever parameter values `selector2` had when `make_view()` was invoked.  To make the connection between the HoloViews object and the parameter widgets, we need one last line:\n",
    "\n",
    "```\n",
    "hv.DynamicMap(selector2.make_view, kdims=[], streams=[selector, RangeXY()])\n",
    "```\n",
    "\n",
    "Here, a `DynamicMap` is a HoloViews wrapper that accepts a callback (`selector2.make_view` in this case) that it will call when a new HoloViews object is needed. Finally, the `streams` argument subscribes this DynamicMap to two streams, requesting that those streams trigger an update on the DynamicMap when the widget values change (via the `selector` stream) and when the Bokeh zoom range changes (via the `RangeXY()` stream).  In either case, the DynamicMap will then execute the provided command  to generate a new view, and ultimately the plot on your screen will update. Success!\n",
    "\n",
    "[The `kdims` argument is unused here, because all of the dynamism here is provided by widgets and range changes, but in general we could also declare some \"key dimensions\" (e.g. \"date\"), and then there would be additional sliders created automatically to select values along those dimensions, which would then also trigger a call to `selector2.make_view`.]\n",
    "\n",
    "While the approach outlined here is more complicated than having a single callback (which is of course also supported directly by paramnb), what it achieves is to be able to very flexibly create and subscribe to a wide variety of different event streams, each individually very simple and straightforward to create but which can be combined in arbitrary ways to create complex interactive behavior.  See the new HoloViews Streams tutorials for more information, which explains how to watch for selection events, click events, keypress events, etc., all of which can be used to provide interactive behavior for Bokeh plots beyond what paramnb's widgets support."
   ]
  }
 ],
 "metadata": {
  "anaconda-cloud": {},
  "extensions": {
   "jupyter_dashboards": {
    "activeView": "grid_default",
    "version": 1,
    "views": {
     "grid_default": {
      "cellMargin": 10,
      "defaultCellHeight": 20,
      "maxColumns": 12,
      "name": "grid",
      "type": "grid"
     },
     "report_default": {
      "name": "report",
      "type": "report"
     }
    }
   }
  },
  "kernelspec": {
   "display_name": "Python 3",
   "language": "python",
   "name": "python3"
  },
  "language_info": {
   "codemirror_mode": {
    "name": "ipython",
    "version": 3
   },
   "file_extension": ".py",
   "mimetype": "text/x-python",
   "name": "python",
   "nbconvert_exporter": "python",
   "pygments_lexer": "ipython3",
   "version": "3.6.1"
  },
  "widgets": {
   "state": {
    "3a6fcc0854224c0e8607bd21ea3c3b68": {
     "views": [
      {
       "cell_index": 11
      }
     ]
    },
    "e39f8ed516ab45aab010a1ca4dc263af": {
     "views": [
      {
       "cell_index": 4
      }
     ]
    }
   },
   "version": "1.2.0"
  }
 },
 "nbformat": 4,
 "nbformat_minor": 1
}
