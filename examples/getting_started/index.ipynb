{
 "cells": [
  {
   "cell_type": "markdown",
   "metadata": {},
   "source": [
    "Detailed Datashader documentation is contained in the [User Guide](../user_guide/index.ipynb), and\n",
    "the [Topics](https://datashader.org/topics/index.html) pages show examples of what you can do with Datashader. But to get started quickly, check out the introductory guide sections in order; it should take around 1 hour in total.\n",
    "\n",
    "* [1. Introduction](1_Introduction.ipynb)\n",
    "  Simple self-contained example to show how Datashader works.\n",
    "\n",
    "* [2. Pipeline](2_Pipeline.ipynb)\n",
    "  Detailed step-by-step explanation how Datashader turns your data into an image.\n",
    "\n",
    "* [3. Interactivity](3_Interactivity.ipynb)\n",
    "  Embedding images into rich, interactive plots in a web browser."
   ]
  }
 ],
 "metadata": {
  "language_info": {
   "name": "python",
   "pygments_lexer": "ipython3"
  }
 },
 "nbformat": 4,
 "nbformat_minor": 2
}
