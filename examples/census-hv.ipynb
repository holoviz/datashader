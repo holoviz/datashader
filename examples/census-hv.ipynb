{
 "cells": [
  {
   "cell_type": "markdown",
   "metadata": {
    "deletable": true,
    "editable": true
   },
   "source": [
    "## Datashading 2010 US Census data with HoloViews/GeoViews\n",
    "\n",
    "The regular census.ipynb notebook from the [datashader](https://github.com/bokeh/datashader) library shows a variety of analyses of the 2010 Census data on population and race.  Here we show how the latest 1.7 release of HoloViews (due by March 2017) will allow a much simpler syntax for instantiating interactive datashader plots, including support for layouts, overlays, etc.\n",
    "\n",
    "### Load data and set up"
   ]
  },
  {
   "cell_type": "code",
   "execution_count": null,
   "metadata": {
    "collapsed": false,
    "deletable": true,
    "editable": true
   },
   "outputs": [],
   "source": [
    "#! conda install -c anaconda pytables=3.3.0"
   ]
  },
  {
   "cell_type": "code",
   "execution_count": null,
   "metadata": {
    "collapsed": false,
    "deletable": true,
    "editable": true
   },
   "outputs": [],
   "source": [
    "import pandas as pd\n",
    "import holoviews as hv\n",
    "import geoviews as gv\n",
    "import datashader as ds\n",
    "\n",
    "from bokeh.models import WMTSTileSource\n",
    "from holoviews.operation import datashade"
   ]
  },
  {
   "cell_type": "code",
   "execution_count": null,
   "metadata": {
    "collapsed": false,
    "deletable": true,
    "editable": true
   },
   "outputs": [],
   "source": [
    "hv.notebook_extension('bokeh')\n",
    "%opts Overlay [width=900 height=525 xaxis=None yaxis=None] WMTS (alpha=0.5)"
   ]
  },
  {
   "cell_type": "code",
   "execution_count": null,
   "metadata": {
    "collapsed": false,
    "deletable": true,
    "editable": true
   },
   "outputs": [],
   "source": [
    "%%time\n",
    "df = pd.read_hdf('data/census.h5', 'census')"
   ]
  },
  {
   "cell_type": "code",
   "execution_count": null,
   "metadata": {
    "collapsed": false,
    "deletable": true,
    "editable": true
   },
   "outputs": [],
   "source": [
    "df.tail()"
   ]
  },
  {
   "cell_type": "markdown",
   "metadata": {
    "deletable": true,
    "editable": true
   },
   "source": [
    "### Interactive plot of population density with race as colors, overlaid on a geographic map"
   ]
  },
  {
   "cell_type": "code",
   "execution_count": null,
   "metadata": {
    "collapsed": false,
    "deletable": true,
    "editable": true
   },
   "outputs": [],
   "source": [
    "dataset = gv.Dataset(df, kdims=['meterswest', 'metersnorth'], vdims=['race'])\n",
    "\n",
    "color_key = {'w':'blue', 'b':'green', 'a':'red', 'h':'orange', 'o':'saddlebrown'}\n",
    "\n",
    "geography = gv.WMTS(WMTSTileSource(url=\\\n",
    "   'https://server.arcgisonline.com/ArcGIS/rest/services/World_Imagery/MapServer/tile/{Z}/{Y}/{X}.jpg'))\n",
    "\n",
    "race = datashade(dataset, x_sampling=1, y_sampling=1, cmap=color_key,\n",
    "                 element_type=gv.Image, aggregator=ds.count_cat('race'))\n",
    "\n",
    "geography * race"
   ]
  },
  {
   "cell_type": "code",
   "execution_count": null,
   "metadata": {
    "collapsed": true,
    "deletable": true,
    "editable": true
   },
   "outputs": [],
   "source": []
  }
 ],
 "metadata": {
  "anaconda-cloud": {},
  "kernelspec": {
   "display_name": "Python 3",
   "language": "python",
   "name": "python3"
  },
  "language_info": {
   "codemirror_mode": {
    "name": "ipython",
    "version": 3
   },
   "file_extension": ".py",
   "mimetype": "text/x-python",
   "name": "python",
   "nbconvert_exporter": "python",
   "pygments_lexer": "ipython3",
   "version": "3.6.0"
  }
 },
 "nbformat": 4,
 "nbformat_minor": 0
}
