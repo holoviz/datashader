{
 "cells": [
  {
   "cell_type": "markdown",
   "metadata": {},
   "source": [
    "## Datashading 2010 US Census data with HoloViews/GeoViews\n",
    "\n",
    "The regular [census.ipynb](https://anaconda.org/jbednar/census) notebook from the [datashader](https://github.com/bokeh/datashader) library shows a variety of analyses of the 2010 Census data on population and race.  Here we show a simpler, standalone example of the basic process of making an interactive datashader plot overlaid on a map.\n",
    "\n",
    "### Set up and load data"
   ]
  },
  {
   "cell_type": "code",
   "execution_count": null,
   "metadata": {},
   "outputs": [],
   "source": [
    "import dask.dataframe as dd\n",
    "import holoviews as hv\n",
    "import geoviews as gv\n",
    "import datashader as ds\n",
    "\n",
    "from bokeh.models import WMTSTileSource\n",
    "from holoviews.operation.datashader import datashade, dynspread\n",
    "hv.notebook_extension('bokeh')\n",
    "\n",
    "df = dd.io.parquet.read_parquet('data/census.snappy.parq')\n",
    "%time df=df.persist()"
   ]
  },
  {
   "cell_type": "markdown",
   "metadata": {},
   "source": [
    "### Interactive plot of population density with race as colors, overlaid on a geographic map\n",
    "\n",
    "HoloViews will happily pass on any size of dataset for the browser to display using Bokeh, but the browser would crash if you were to try to visualize the 300-million-row ``points`` object below. Luckily, HoloViews makes it simple to add a dynamic call to datashader that aggregates the data into a new image on any zoom or pan, to ensure that big data can safely be explored interactively.  Of course, this dynamic updating requires a live Python server running; with a static rendering like anaconda.org you'll only see the initial image drawn."
   ]
  },
  {
   "cell_type": "code",
   "execution_count": null,
   "metadata": {},
   "outputs": [],
   "source": [
    "%%opts Overlay [width=900 height=525 xaxis=None yaxis=None]\n",
    "geourl = 'https://server.arcgisonline.com/ArcGIS/rest/services/World_Imagery/MapServer/tile/{Z}/{Y}/{X}.jpg'\n",
    "geomap = gv.WMTS(WMTSTileSource(url=geourl))\n",
    "points = gv.Points(df, kdims=['easting', 'northing'], vdims=['race'])\n",
    "color_key = {'w':'blue',  'b':'green', 'a':'red',   'h':'orange',   'o':'saddlebrown'}\n",
    "\n",
    "race = dynspread(datashade(points, color_key=color_key, element_type=hv.Image, aggregator=ds.count_cat('race')))\n",
    "geomap * race"
   ]
  }
 ],
 "metadata": {
  "anaconda-cloud": {},
  "kernelspec": {
   "display_name": "Python 3",
   "language": "python",
   "name": "python3"
  },
  "language_info": {
   "codemirror_mode": {
    "name": "ipython",
    "version": 3
   },
   "file_extension": ".py",
   "mimetype": "text/x-python",
   "name": "python",
   "nbconvert_exporter": "python",
   "pygments_lexer": "ipython3",
   "version": "3.6.1"
  }
 },
 "nbformat": 4,
 "nbformat_minor": 1
}
