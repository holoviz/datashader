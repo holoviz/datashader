{
 "cells": [
  {
   "cell_type": "markdown",
   "metadata": {},
   "source": [
    "# Datashading LandSat8 raster satellite imagery\n",
    "\n",
    "Datashader is fundamentally a rasterizing library, turning data into rasters (image-like arrays), but it is also useful for already-rasterized data like satellite imagery.  For raster data, datashader uses the separate [xarray](http://xarray.pydata.org/) library to re-render the data to whatever new bounding box and resolution the user requests, and the rest of the datashader pipeline can then be used to visualize and analyze the data.  This demo shows how to work with a set of raster satellite data, generating images as needed and overlaying them on geographic coordinates."
   ]
  },
  {
   "cell_type": "code",
   "execution_count": null,
   "metadata": {},
   "outputs": [],
   "source": [
    "import numpy as np\n",
    "import xarray as xr\n",
    "import holoviews as hv\n",
    "import geoviews as gv\n",
    "import datashader as ds\n",
    "import cartopy.crs as ccrs\n",
    "MERCATOR = ccrs.GOOGLE_MERCATOR\n",
    "\n",
    "from holoviews.operation.datashader import datashade, regrid, shade\n",
    "from bokeh.tile_providers import STAMEN_TONER\n",
    "\n",
    "hv.extension('bokeh', width=80)"
   ]
  },
  {
   "cell_type": "markdown",
   "metadata": {},
   "source": [
    "### Load LandSat Data \n",
    "\n",
    "LandSat data is measured in different frequency bands, revealing different types of information:\n",
    "\n",
    "```\n",
    "Band      Wavelength     Resolution   Description\n",
    "          (micrometers)  (meters)\n",
    "\n",
    "Band 1     0.43 - 0.45     30         Coastal aerosol\n",
    "Band 2     0.45 - 0.51     30         Blue\n",
    "Band 3     0.53 - 0.59     30         Green\n",
    "Band 4     0.64 - 0.67     30         Red\n",
    "Band 5     0.85 - 0.88     30         Near Infrared (NIR)\n",
    "Band 6     1.57 - 1.65     30         SWIR 1\n",
    "Band 7     2.11 - 2.29     30         SWIR 2\n",
    "Band 8     0.50 - 0.68     15         Panchromatic\n",
    "Band 9     1.36 - 1.38     30         Cirrus\n",
    "Band 10   10.60 - 11.19   100 * (30)  Thermal Infrared (TIRS) 1\n",
    "Band 11   11.50 - 12.51   100 * (30)  Thermal Infrared (TIRS) 2\n",
    "```"
   ]
  },
  {
   "cell_type": "code",
   "execution_count": null,
   "metadata": {},
   "outputs": [],
   "source": [
    "file_path = './data/MERCATOR_LC80210392016114LGN00_B%s.TIF'\n",
    "bands = list(range(1, 12)) + ['QA']\n",
    "bands = [xr.open_rasterio(file_path%band).load()[0] for band in bands]\n",
    "band_spectra = [0.44, 0.48, 0.56, 0.655, 0.865, 1.61, 2.2, 0.59, 1.37, 10.895, 12.005]"
   ]
  },
  {
   "cell_type": "markdown",
   "metadata": {},
   "source": [
    "## Rendering LandSat data as images\n",
    "\n",
    "The bands measured by LandSat include wavelengths covering the visible spectrum, but also other ranges, and so it's possible to visualize this data in many different ways, in both true color (using the visible spectrum directly) or false color (usually showing other bands).  Some examples are shown in the sections below.\n",
    "\n",
    "### Just the Blue Band\n",
    "\n",
    "Using datashader's default histogram-equalized colormapping, the full range of data is visible in the plot:"
   ]
  },
  {
   "cell_type": "code",
   "execution_count": null,
   "metadata": {},
   "outputs": [],
   "source": [
    "%opts RGB [width=600 height=600]\n",
    "tiles = gv.WMTS(STAMEN_TONER)\n",
    "tiles * shade(regrid(hv.Image(bands[1])), cmap=['black', 'white']).redim(x='Longitude', y='Latitude')"
   ]
  },
  {
   "cell_type": "markdown",
   "metadata": {},
   "source": [
    "You will usually want to zoom in, which will re-rasterize the image if you are in a live notebook, and then re-equalize the colormap to show all the detail available.  If you are on a static copy of the notebook, only the original resolution at which the image was rendered will be available, but zooming will still update the map tiles to whatever resolution is requested.\n",
    "\n",
    "The plots below use a different type of colormap processing, implemented as a custom transfer function:"
   ]
  },
  {
   "cell_type": "code",
   "execution_count": null,
   "metadata": {},
   "outputs": [],
   "source": [
    "from datashader.utils import ngjit\n",
    "nodata= 1\n",
    "\n",
    "@ngjit\n",
    "def normalize_data(agg):\n",
    "    out = np.zeros_like(agg)\n",
    "    min_val = 0\n",
    "    max_val = 2**16 - 1\n",
    "    range_val = max_val - min_val\n",
    "    col, rows = agg.shape\n",
    "    c = 40\n",
    "    th = .125\n",
    "    for x in range(col):\n",
    "        for y in range(rows):\n",
    "            val = agg[x, y]\n",
    "            norm = (val - min_val) / range_val\n",
    "            norm = 1 / (1 + np.exp(c * (th - norm))) # bonus\n",
    "            out[x, y] = norm * 255.0\n",
    "    return out\n",
    "\n",
    "def combine_bands(r, g, b):\n",
    "    xs, ys = r['x'], r['y']\n",
    "    r, g, b = [ds.utils.orient_array(img) for img in (r, g, b)]\n",
    "    a = (np.where(np.logical_or(np.isnan(r),r<=nodata),0,255)).astype(np.uint8)    \n",
    "    r = (normalize_data(r)).astype(np.uint8)\n",
    "    g = (normalize_data(g)).astype(np.uint8)\n",
    "    b = (normalize_data(b)).astype(np.uint8)\n",
    "    col, rows = r.shape\n",
    "    return hv.RGB((xs, ys[::-1], r, g, b, a), vdims=list('RGBA'))"
   ]
  },
  {
   "cell_type": "markdown",
   "metadata": {},
   "source": [
    "### True Color (Red=Red, Green=Green, Blue=Blue)\n",
    "\n",
    "Mapping the Red, Green, and Blue bands to the R, G, and B channels of an image reconstructs the image as it would appear to an ordinary camera from that viewpoint:"
   ]
  },
  {
   "cell_type": "code",
   "execution_count": null,
   "metadata": {},
   "outputs": [],
   "source": [
    "true_color = combine_bands(bands[3], bands[2], bands[1])\n",
    "tiles * regrid(true_color)"
   ]
  },
  {
   "cell_type": "markdown",
   "metadata": {},
   "source": [
    "Other combinations highlight particular features of interest based on the different spectral properties of reflectances from various objects and surfaces:\n",
    "\n",
    "### Color Infrared (Vegetation) (Red=Near Infrared, Green=Red, Blue=Green)"
   ]
  },
  {
   "cell_type": "code",
   "execution_count": null,
   "metadata": {},
   "outputs": [],
   "source": [
    "vegetation = combine_bands(bands[4], bands[3], bands[2])\n",
    "tiles * regrid(vegetation)"
   ]
  },
  {
   "cell_type": "markdown",
   "metadata": {},
   "source": [
    "### False Color (Urban) (Red=SWIR 2, Green=SWIR 1, Blue=Red)"
   ]
  },
  {
   "cell_type": "code",
   "execution_count": null,
   "metadata": {},
   "outputs": [],
   "source": [
    "urban = combine_bands(bands[6], bands[5], bands[3])\n",
    "tiles * regrid(urban)"
   ]
  },
  {
   "cell_type": "markdown",
   "metadata": {},
   "source": [
    "### False Color 2 (Red=Near Infrared, Green=SWIR 1, Blue=Coastal)"
   ]
  },
  {
   "cell_type": "code",
   "execution_count": null,
   "metadata": {},
   "outputs": [],
   "source": [
    "false_color = combine_bands(bands[4], bands[6], bands[0])\n",
    "tiles * regrid(false_color)"
   ]
  },
  {
   "cell_type": "markdown",
   "metadata": {},
   "source": [
    "### Land vs. Water (Red=Near Infrared, Green=SWIR 1, Blue=Red)"
   ]
  },
  {
   "cell_type": "code",
   "execution_count": null,
   "metadata": {},
   "outputs": [],
   "source": [
    "land_vs_water = combine_bands(bands[4], bands[5], bands[3])\n",
    "tiles * regrid(land_vs_water)"
   ]
  },
  {
   "cell_type": "markdown",
   "metadata": {
    "collapsed": true
   },
   "source": [
    "### Shortwave Infrared (Red=SWIR2, Green=Near Infrared, Blue=Red)"
   ]
  },
  {
   "cell_type": "code",
   "execution_count": null,
   "metadata": {},
   "outputs": [],
   "source": [
    "infrared = combine_bands(bands[6], bands[4], bands[3])\n",
    "tiles * regrid(infrared)"
   ]
  },
  {
   "cell_type": "markdown",
   "metadata": {},
   "source": [
    "All the various ways of combining aggregates supported by [xarray](http://xarray.pydata.org) are available for these channels, making it simple to make your own custom visualizations highlighting any combination of bands that reveal something of interest."
   ]
  },
  {
   "cell_type": "markdown",
   "metadata": {},
   "source": [
    "### Revealing the spectrum"
   ]
  },
  {
   "cell_type": "code",
   "execution_count": null,
   "metadata": {
    "scrolled": false
   },
   "outputs": [],
   "source": [
    "%%opts RGB Curve [width=500 height=500] Curve (color='black') [logx=True]\n",
    "def get_spectrum(x, y):\n",
    "    if x is None or y is None:\n",
    "        spectrum = np.zeros(11)\n",
    "    else:\n",
    "        spectrum = band_map.sample(x=x, y=y)['z'][:-1]\n",
    "    point = gv.Points([(x, y)], crs=MERCATOR)\n",
    "    point = gv.operation.project_points(point, projection=ccrs.PlateCarree())\n",
    "    label = 'Lon: %.3f, Lat: %.3f' % tuple(point.array()[0])\n",
    "    return hv.Curve((band_spectra, spectrum), label=label,\n",
    "                    kdims=['Wavelength (µm)'], vdims=['Luminance']).sort()\n",
    "\n",
    "band_map = hv.HoloMap({i: hv.Image(band) for i, band in enumerate(bands)})\n",
    "tap = hv.streams.PointerXY(source=true_color)\n",
    "spectrum = hv.DynamicMap(get_spectrum, streams=[tap]).redim.range(Luminance=(0, 30000))\n",
    "\n",
    "tiles * regrid(true_color) + spectrum"
   ]
  }
 ],
 "metadata": {
  "kernelspec": {
   "display_name": "Python 3",
   "language": "python",
   "name": "python3"
  },
  "language_info": {
   "codemirror_mode": {
    "name": "ipython",
    "version": 3
   },
   "file_extension": ".py",
   "mimetype": "text/x-python",
   "name": "python",
   "nbconvert_exporter": "python",
   "pygments_lexer": "ipython3",
   "version": "3.6.2"
  },
  "widgets": {
   "state": {},
   "version": "1.1.2"
  }
 },
 "nbformat": 4,
 "nbformat_minor": 1
}
