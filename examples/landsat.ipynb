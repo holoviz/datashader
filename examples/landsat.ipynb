{
 "cells": [
  {
   "cell_type": "markdown",
   "metadata": {},
   "source": [
    "# Datashading LandSat8 raster satellite imagery\n",
    "\n",
    "Datashader is fundamentally a rasterizing library, turning data into rasters (image-like arrays), but it is also useful for already-rasterized data like satellite imagery.  For raster data, datashader uses the separate [rasterio](https://mapbox.github.io/rasterio) library to re-render the data to whatever new bounding box and resolution the user requests, and the rest of the datashader pipeline can then be used to visualize and analyze the data.  This demo shows how to work with a set of raster satellite data, generating images as needed and overlaying them on geographic coordinates."
   ]
  },
  {
   "cell_type": "code",
   "execution_count": null,
   "metadata": {},
   "outputs": [],
   "source": [
    "import os\n",
    "\n",
    "import numpy as np\n",
    "import xarray as xr\n",
    "\n",
    "from bokeh.plotting import Figure\n",
    "from bokeh.io import output_notebook\n",
    "\n",
    "from datashader.bokeh_ext import InteractiveImage\n",
    "import datashader as ds\n",
    "import datashader.transfer_functions as tf\n",
    "\n",
    "from bokeh.tile_providers import STAMEN_TONER\n",
    "\n",
    "output_notebook()"
   ]
  },
  {
   "cell_type": "markdown",
   "metadata": {},
   "source": [
    "### Load LandSat Data \n",
    "\n",
    "LandSat data is measured in different frequency bands, revealing different types of information:\n",
    "\n",
    "```\n",
    "Band      Wavelength     Resolution   Description\n",
    "          (micrometers)  (meters)\n",
    "\n",
    "Band 1     0.43 - 0.45     30         Coastal aerosol\n",
    "Band 2     0.45 - 0.51     30         Blue\n",
    "Band 3     0.53 - 0.59     30         Green\n",
    "Band 4     0.64 - 0.67     30         Red\n",
    "Band 5     0.85 - 0.88     30         Near Infrared (NIR)\n",
    "Band 6     1.57 - 1.65     30         SWIR 1\n",
    "Band 7     2.11 - 2.29     30         SWIR 2\n",
    "Band 8     0.50 - 0.68     15         Panchromatic\n",
    "Band 9     1.36 - 1.38     30         Cirrus\n",
    "Band 10   10.60 - 11.19   100 * (30)  Thermal Infrared (TIRS) 1\n",
    "Band 11   11.50 - 12.51   100 * (30)  Thermal Infrared (TIRS) 2\n",
    "```"
   ]
  },
  {
   "cell_type": "code",
   "execution_count": null,
   "metadata": {
    "collapsed": true
   },
   "outputs": [],
   "source": [
    "data_dir = './data'\n",
    "\n",
    "band1 = xr.open_rasterio(os.path.join(data_dir, 'MERCATOR_LC80210392016114LGN00_B1.TIF'))\n",
    "band2 = xr.open_rasterio(os.path.join(data_dir, 'MERCATOR_LC80210392016114LGN00_B2.TIF'))\n",
    "band3 = xr.open_rasterio(os.path.join(data_dir, 'MERCATOR_LC80210392016114LGN00_B3.TIF'))\n",
    "band4 = xr.open_rasterio(os.path.join(data_dir, 'MERCATOR_LC80210392016114LGN00_B4.TIF'))\n",
    "band5 = xr.open_rasterio(os.path.join(data_dir, 'MERCATOR_LC80210392016114LGN00_B5.TIF'))\n",
    "band6 = xr.open_rasterio(os.path.join(data_dir, 'MERCATOR_LC80210392016114LGN00_B6.TIF'))\n",
    "band7 = xr.open_rasterio(os.path.join(data_dir, 'MERCATOR_LC80210392016114LGN00_B7.TIF'))\n",
    "band8 = xr.open_rasterio(os.path.join(data_dir, 'MERCATOR_LC80210392016114LGN00_B8.TIF'))\n",
    "band9 = xr.open_rasterio(os.path.join(data_dir, 'MERCATOR_LC80210392016114LGN00_B9.TIF'))\n",
    "band10 = xr.open_rasterio(os.path.join(data_dir, 'MERCATOR_LC80210392016114LGN00_B10.TIF'))\n",
    "band11 = xr.open_rasterio(os.path.join(data_dir, 'MERCATOR_LC80210392016114LGN00_B11.TIF'))\n",
    "band12 = xr.open_rasterio(os.path.join(data_dir, 'MERCATOR_LC80210392016114LGN00_BQA.TIF'))\n",
    "# Notice the MERCATOR prefix which indicates the data was projected to Mercator CRS\n",
    "\n",
    "res = ds.utils.calc_res(band1)\n",
    "xmin, ymin, xmax, ymax = ds.utils.calc_bbox(band1.x.values, band1.y.values, res)\n",
    "\n",
    "# Declare value used in the above files for no-data values, as bandX.nodata was not filled in\n",
    "nodata=1"
   ]
  },
  {
   "cell_type": "markdown",
   "metadata": {},
   "source": [
    "### Define geographic plot\n",
    "\n",
    "We'll plot this data using Bokeh, overlaying it on map tiles for context:"
   ]
  },
  {
   "cell_type": "code",
   "execution_count": null,
   "metadata": {
    "collapsed": true
   },
   "outputs": [],
   "source": [
    "def base_plot(tools='pan,wheel_zoom,reset',plot_width=720, plot_height=400, x_range=None, y_range=None, **plot_args):\n",
    "    p = Figure(tools=tools, plot_width=plot_width, plot_height=plot_height,\n",
    "        x_range=x_range, y_range=y_range, outline_line_color=None,\n",
    "        background_fill_color='black',\n",
    "        min_border=0, min_border_left=0, min_border_right=0,\n",
    "        min_border_top=0, min_border_bottom=0, **plot_args)\n",
    "    \n",
    "    p.add_tile(STAMEN_TONER)\n",
    "    \n",
    "    p.axis.visible = False\n",
    "    p.xgrid.grid_line_color = None\n",
    "    p.ygrid.grid_line_color = None\n",
    "    return p"
   ]
  },
  {
   "cell_type": "markdown",
   "metadata": {},
   "source": [
    "## Rendering LandSat data as images\n",
    "\n",
    "The bands measured by LandSat include wavelengths covering the visible spectrum, but also other ranges, and so it's possible to visualize this data in many different ways, in both true color (using the visible spectrum directly) or false color (usually showing other bands).  Some examples are shown in the sections below.\n",
    "\n",
    "### Just the Blue Band\n",
    "\n",
    "Using datashader's default histogram-equalized colormapping, the full range of data is visible in the plot:"
   ]
  },
  {
   "cell_type": "code",
   "execution_count": null,
   "metadata": {},
   "outputs": [],
   "source": [
    "def update_image(x_range, y_range, w, h, how='log'):\n",
    "    cvs = ds.Canvas(plot_width=w, plot_height=h, x_range=x_range, y_range=y_range)\n",
    "    agg = cvs.raster(band2).sel(band=1).astype(float)\n",
    "    agg.data[agg.data<nodata]=np.nan\n",
    "    blue_img = tf.shade(agg,cmap=['black','white'])\n",
    "    return blue_img\n",
    "\n",
    "p = base_plot(x_range=(xmin, xmax), y_range=(ymin, ymax))\n",
    "InteractiveImage(p, update_image)"
   ]
  },
  {
   "cell_type": "markdown",
   "metadata": {},
   "source": [
    "You will usually want to zoom in, which will re-rasterize the image if you are in a live notebook, and then re-equalize the colormap to show all the detail available.  If you are on a static copy of the notebook, only the original resolution at which the image was rendered will be available, but zooming will still update the map tiles to whatever resolution is requested.\n",
    "\n",
    "The plots below use a different type of colormap processing, implemented as a custom transfer function:"
   ]
  },
  {
   "cell_type": "code",
   "execution_count": null,
   "metadata": {
    "collapsed": true
   },
   "outputs": [],
   "source": [
    "from datashader.utils import ngjit\n",
    "\n",
    "@ngjit\n",
    "def normalize_data(agg):\n",
    "    out = np.zeros_like(agg)\n",
    "    min_val = 0\n",
    "    max_val = 2**16 - 1\n",
    "    range_val = max_val - min_val\n",
    "    col, rows = agg.shape\n",
    "    c = 40\n",
    "    th = .125\n",
    "    for x in range(col):\n",
    "        for y in range(rows):\n",
    "            val = agg[x, y]\n",
    "            norm = (val - min_val) / range_val\n",
    "            norm = 1 / (1 + np.exp(c * (th - norm))) # bonus\n",
    "            out[x, y] = norm * 255.0\n",
    "    return out"
   ]
  },
  {
   "cell_type": "code",
   "execution_count": null,
   "metadata": {
    "collapsed": true
   },
   "outputs": [],
   "source": [
    "def combine_bands(r, g, b):\n",
    "    a = (np.where(np.logical_or(np.isnan(r),r<=nodata),0,255)).astype(np.uint8)    \n",
    "    r = (normalize_data(r)).astype(np.uint8)\n",
    "    g = (normalize_data(g)).astype(np.uint8)\n",
    "    b = (normalize_data(b)).astype(np.uint8)\n",
    "    col, rows = r.shape\n",
    "    img = np.dstack([r, g, b, a]).view(np.uint32).reshape(r.shape)\n",
    "    return tf.Image(data=img)"
   ]
  },
  {
   "cell_type": "markdown",
   "metadata": {},
   "source": [
    "### True Color (Red=Red, Green=Green, Blue=Blue)\n",
    "\n",
    "Mapping the Red, Green, and Blue bands to the R, G, and B channels of an image reconstructs the image as it would appear to an ordinary camera from that viewpoint:"
   ]
  },
  {
   "cell_type": "code",
   "execution_count": null,
   "metadata": {},
   "outputs": [],
   "source": [
    "def true_color(x_range, y_range, w, h):\n",
    "    cvs = ds.Canvas(plot_width=w, plot_height=h, x_range=x_range, y_range=y_range)\n",
    "    r, g, b = [cvs.raster(b).sel(band=1).data for b in (band4, band3, band2)]\n",
    "    return combine_bands(r, g, b)\n",
    "\n",
    "p = base_plot(x_range=(xmin, xmax), y_range=(ymin, ymax))\n",
    "InteractiveImage(p, true_color)"
   ]
  },
  {
   "cell_type": "markdown",
   "metadata": {},
   "source": [
    "Other combinations highlight particular features of interest based on the different spectral properties of reflectances from various objects and surfaces:\n",
    "\n",
    "### Color Infrared (Vegetation) (Red=Near Infrared, Green=Red, Blue=Green)"
   ]
  },
  {
   "cell_type": "code",
   "execution_count": null,
   "metadata": {},
   "outputs": [],
   "source": [
    "def color_infrared(x_range, y_range, w, h):\n",
    "    cvs = ds.Canvas(plot_width=w, plot_height=h, x_range=x_range, y_range=y_range)\n",
    "    r, g, b = [cvs.raster(b).sel(band=1).data for b in (band5, band4, band3)]\n",
    "    return combine_bands(r, g, b)\n",
    "\n",
    "p = base_plot(x_range=(xmin, xmax), y_range=(ymin, ymax))\n",
    "InteractiveImage(p, color_infrared)"
   ]
  },
  {
   "cell_type": "markdown",
   "metadata": {},
   "source": [
    "### False Color (Urban) (Red=SWIR 2, Green=SWIR 1, Blue=Red)"
   ]
  },
  {
   "cell_type": "code",
   "execution_count": null,
   "metadata": {},
   "outputs": [],
   "source": [
    "def false_color_urban(x_range, y_range, w, h):\n",
    "    cvs = ds.Canvas(plot_width=w, plot_height=h, x_range=x_range, y_range=y_range)\n",
    "    r, g, b = [cvs.raster(b).sel(band=1).data for b in (band7, band6, band4)]\n",
    "    return combine_bands(r, g, b)\n",
    "\n",
    "p = base_plot(x_range=(xmin, xmax), y_range=(ymin, ymax))\n",
    "InteractiveImage(p, false_color_urban)"
   ]
  },
  {
   "cell_type": "markdown",
   "metadata": {},
   "source": [
    "### False Color 2 (Red=Near Infrared, Green=SWIR 1, Blue=Coastal)"
   ]
  },
  {
   "cell_type": "code",
   "execution_count": null,
   "metadata": {},
   "outputs": [],
   "source": [
    "def false_color_veg(x_range, y_range, w, h):\n",
    "    cvs = ds.Canvas(plot_width=w, plot_height=h, x_range=x_range, y_range=y_range)\n",
    "    r, g, b = [cvs.raster(b).sel(band=1).data for b in (band5, band7, band1)]\n",
    "    return combine_bands(r, g, b)\n",
    "\n",
    "p = base_plot(x_range=(xmin, xmax), y_range=(ymin, ymax))\n",
    "InteractiveImage(p, false_color_veg)"
   ]
  },
  {
   "cell_type": "markdown",
   "metadata": {},
   "source": [
    "### Land vs. Water (Red=Near Infrared, Green=SWIR 1, Blue=Red)"
   ]
  },
  {
   "cell_type": "code",
   "execution_count": null,
   "metadata": {},
   "outputs": [],
   "source": [
    "def land_vs_water(x_range, y_range, w, h):\n",
    "    cvs = ds.Canvas(plot_width=w, plot_height=h, x_range=x_range, y_range=y_range)\n",
    "    r, g, b = [cvs.raster(b).sel(band=1).data for b in (band5, band6, band4)]\n",
    "    return combine_bands(r, g, b)\n",
    "\n",
    "p = base_plot(x_range=(xmin, xmax), y_range=(ymin, ymax))\n",
    "InteractiveImage(p, land_vs_water)"
   ]
  },
  {
   "cell_type": "markdown",
   "metadata": {
    "collapsed": true
   },
   "source": [
    "### Shortwave Infrared (Red=SWIR2, Green=Near Infrared, Blue=Red)"
   ]
  },
  {
   "cell_type": "code",
   "execution_count": null,
   "metadata": {},
   "outputs": [],
   "source": [
    "def shortwave_infrared(x_range, y_range, w, h):\n",
    "    cvs = ds.Canvas(plot_width=w, plot_height=h, x_range=x_range, y_range=y_range)\n",
    "    r, g, b = [cvs.raster(b).sel(band=1).data for b in (band7, band5, band4)]\n",
    "    return combine_bands(r, g, b)\n",
    "\n",
    "p = base_plot(x_range=(xmin, xmax), y_range=(ymin, ymax))\n",
    "InteractiveImage(p, shortwave_infrared)"
   ]
  },
  {
   "cell_type": "markdown",
   "metadata": {},
   "source": [
    "All the various ways of combining aggregates supported by [xarray](http://xarray.pydata.org) are available for these channels, making it simple to make your own custom visualizations highlighting any combination of bands that reveal something of interest."
   ]
  }
 ],
 "metadata": {
  "kernelspec": {
   "display_name": "Python 3",
   "language": "python",
   "name": "python3"
  },
  "language_info": {
   "codemirror_mode": {
    "name": "ipython",
    "version": 3
   },
   "file_extension": ".py",
   "mimetype": "text/x-python",
   "name": "python",
   "nbconvert_exporter": "python",
   "pygments_lexer": "ipython3",
   "version": "3.6.2"
  },
  "widgets": {
   "state": {},
   "version": "1.1.2"
  }
 },
 "nbformat": 4,
 "nbformat_minor": 1
}
