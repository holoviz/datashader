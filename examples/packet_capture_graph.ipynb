{
 "cells": [
  {
   "cell_type": "markdown",
   "metadata": {},
   "source": [
    "# Graphing network packets"
   ]
  },
  {
   "cell_type": "markdown",
   "metadata": {},
   "source": [
    "## Preparing data"
   ]
  },
  {
   "cell_type": "markdown",
   "metadata": {},
   "source": [
    "The data source comes from a publicly available network forensics repository: http://www.netresec.com/?page=PcapFiles. The selected file is https://download.netresec.com/pcap/maccdc-2012/maccdc2012_00000.pcap.gz.\n",
    "\n",
    "```\n",
    "tcpdump -qns 0 -r maccdc2012_00000.pcap > maccdc2012_00000.txt\n",
    "```"
   ]
  },
  {
   "cell_type": "markdown",
   "metadata": {},
   "source": [
    "For example, here is a snapshot of the resulting output:"
   ]
  },
  {
   "cell_type": "markdown",
   "metadata": {},
   "source": [
    "```\n",
    "09:30:07.780000 IP 192.168.202.68.8080 > 192.168.24.100.1038: tcp 1380\n",
    "09:30:07.780000 IP 192.168.24.100.1038 > 192.168.202.68.8080: tcp 0\n",
    "09:30:07.780000 IP 192.168.202.68.8080 > 192.168.24.100.1038: tcp 1380\n",
    "09:30:07.780000 IP 192.168.202.68.8080 > 192.168.24.100.1038: tcp 1380\n",
    "09:30:07.780000 IP 192.168.27.100.37877 > 192.168.204.45.41936: tcp 0\n",
    "09:30:07.780000 IP 192.168.24.100.1038 > 192.168.202.68.8080: tcp 0\n",
    "09:30:07.780000 IP 192.168.202.68.8080 > 192.168.24.100.1038: tcp 1380\n",
    "09:30:07.780000 IP 192.168.202.68.8080 > 192.168.24.100.1038: tcp 1380\n",
    "09:30:07.780000 IP 192.168.202.68.8080 > 192.168.24.100.1038: tcp 1380\n",
    "09:30:07.780000 IP 192.168.202.68.8080 > 192.168.24.100.1038: tcp 1380\n",
    "```"
   ]
  },
  {
   "cell_type": "markdown",
   "metadata": {},
   "source": [
    "Given the directional nature of network traffic and the numerous ports per node, we will simplify the graph by treating traffic between nodes as undirected and ignorning the distinction between ports. The graph edges will have weights represented by the total number of bytes across both nodes in either direction."
   ]
  },
  {
   "cell_type": "markdown",
   "metadata": {},
   "source": [
    "```\n",
    "python pcap_to_parquet.py maccdc2012_00000.txt\n",
    "```"
   ]
  },
  {
   "cell_type": "markdown",
   "metadata": {},
   "source": [
    "The resulting output will be two Parquet dataframes, `maccdc2012_nodes.parq` and `maccdc2012_edges.parq`."
   ]
  },
  {
   "cell_type": "markdown",
   "metadata": {},
   "source": [
    "## Loading data"
   ]
  },
  {
   "cell_type": "code",
   "execution_count": null,
   "metadata": {},
   "outputs": [],
   "source": [
    "import datashader as ds\n",
    "import datashader.transfer_functions as tf\n",
    "\n",
    "from bokeh.palettes import Blues9, Greens9, Oranges9\n",
    "from colorcet import fire\n",
    "from datashader.bundling import hammer_bundle\n",
    "from datashader.layout import circular_layout, forceatlas2_layout, random_layout\n",
    "\n",
    "from dask.distributed import Client\n",
    "from fastparquet import ParquetFile\n",
    "\n",
    "client = Client()\n",
    "width, height = 2000, 2000\n",
    "x_range = (-0.01, 1.01)\n",
    "y_range = (-0.01, 1.01)"
   ]
  },
  {
   "cell_type": "code",
   "execution_count": null,
   "metadata": {},
   "outputs": [],
   "source": [
    "nodes_df = ParquetFile('data/maccdc2012_full_nodes.parq').to_pandas()\n",
    "len(nodes_df)"
   ]
  },
  {
   "cell_type": "code",
   "execution_count": null,
   "metadata": {},
   "outputs": [],
   "source": [
    "edges_df = ParquetFile('data/maccdc2012_full_edges.parq').to_pandas()\n",
    "edges_df.head()"
   ]
  },
  {
   "cell_type": "markdown",
   "metadata": {},
   "source": [
    "## Edge bundling"
   ]
  },
  {
   "cell_type": "code",
   "execution_count": null,
   "metadata": {
    "collapsed": true
   },
   "outputs": [],
   "source": [
    "def create_image(bundle, aggregator, nodes, edges, cmap=fire):\n",
    "    bundled_df = bundle(nodes, edges)\n",
    "    img = tf.shade(aggregator(bundled_df, 'x', 'y'), cmap=cmap)\n",
    "    return tf.set_background(img, color='black')"
   ]
  },
  {
   "cell_type": "code",
   "execution_count": null,
   "metadata": {
    "collapsed": true
   },
   "outputs": [],
   "source": [
    "def assign_positions(nodes, edges, layout):\n",
    "    bare_edges = edges.copy()\n",
    "    del bare_edges['protocol']\n",
    "    bare_edges = bare_edges.drop_duplicates()\n",
    "    return layout(nodes, bare_edges)"
   ]
  },
  {
   "cell_type": "code",
   "execution_count": null,
   "metadata": {
    "collapsed": true
   },
   "outputs": [],
   "source": [
    "config = {\n",
    "    'tcp': {'colormap': Blues9},\n",
    "    'udp': {'colormap': Greens9},\n",
    "    'icmp': {'colormap': Oranges9}\n",
    "}\n",
    "for protocol in config.keys():\n",
    "    config[protocol]['edges'] = edges_df[edges_df['protocol'] == protocol]"
   ]
  },
  {
   "cell_type": "code",
   "execution_count": null,
   "metadata": {
    "collapsed": true
   },
   "outputs": [],
   "source": [
    "cvs = ds.Canvas(width, height, x_range, y_range)\n",
    "nodes_by_layout = {name: assign_positions(nodes_df, edges_df, layout)\n",
    "                   for name, layout in [('random', random_layout),\n",
    "                                        ('circular', circular_layout),\n",
    "                                        ('forceatlas2', forceatlas2_layout)]}"
   ]
  },
  {
   "cell_type": "code",
   "execution_count": null,
   "metadata": {
    "collapsed": true
   },
   "outputs": [],
   "source": [
    "images = {(protocol, layout): create_image(hammer_bundle,\n",
    "                                           cvs.points,\n",
    "                                           nodes=nodes_by_layout[layout],\n",
    "                                           edges=config[protocol]['edges'],\n",
    "                                           cmap=config[protocol]['colormap'])\n",
    "          for protocol in config.keys()\n",
    "          for layout in nodes_by_layout.keys()}"
   ]
  },
  {
   "cell_type": "code",
   "execution_count": null,
   "metadata": {
    "scrolled": true
   },
   "outputs": [],
   "source": [
    "sum([images[(protocol, 'random')] for protocol in config.keys()])"
   ]
  },
  {
   "cell_type": "code",
   "execution_count": null,
   "metadata": {},
   "outputs": [],
   "source": [
    "sum([images[(protocol, 'circular')] for protocol in config.keys()])"
   ]
  },
  {
   "cell_type": "code",
   "execution_count": null,
   "metadata": {},
   "outputs": [],
   "source": [
    "sum([images[(protocol, 'forceatlas2')] for protocol in config.keys()])"
   ]
  },
  {
   "cell_type": "markdown",
   "metadata": {},
   "source": [
    "## Nodes with active traffic"
   ]
  },
  {
   "cell_type": "code",
   "execution_count": null,
   "metadata": {
    "collapsed": true
   },
   "outputs": [],
   "source": [
    "def nodes_by_protocol(protocol, nodes, aggregator, min_weight=0):\n",
    "    grouped_edges_df = config[protocol]['edges'].groupby(['source'])[['weight']].sum()\n",
    "    active_edges_df = grouped_edges_df[grouped_edges_df['weight'] >= min_weight]\n",
    "    del active_edges_df['weight']\n",
    "    \n",
    "    active_nodes_df = active_edges_df.rename(columns={'source': 'id'})\n",
    "    active_nodes_df = active_nodes_df.join(nodes)\n",
    "    \n",
    "    agg = aggregator(active_nodes_df, 'x', 'y')\n",
    "    return tf.spread(tf.shade(agg, cmap='red'), px=3)"
   ]
  },
  {
   "cell_type": "code",
   "execution_count": null,
   "metadata": {
    "collapsed": true
   },
   "outputs": [],
   "source": [
    "def create_graph_for_protocol_and_layout(protocol, layout, min_weight):\n",
    "    return images[(protocol, layout)] + nodes_by_protocol(protocol, nodes_by_layout[layout], cvs.points, min_weight)"
   ]
  },
  {
   "cell_type": "markdown",
   "metadata": {},
   "source": [
    "### Nodes with at least 1MB of TCP traffic"
   ]
  },
  {
   "cell_type": "code",
   "execution_count": null,
   "metadata": {},
   "outputs": [],
   "source": [
    "create_graph_for_protocol_and_layout('tcp', 'random', 1024*1024)"
   ]
  },
  {
   "cell_type": "code",
   "execution_count": null,
   "metadata": {},
   "outputs": [],
   "source": [
    "create_graph_for_protocol_and_layout('tcp', 'circular', 1024*1024)"
   ]
  },
  {
   "cell_type": "code",
   "execution_count": null,
   "metadata": {},
   "outputs": [],
   "source": [
    "create_graph_for_protocol_and_layout('tcp', 'forceatlas2', 1024*1024)"
   ]
  },
  {
   "cell_type": "markdown",
   "metadata": {},
   "source": [
    "### Nodes with at least 16K of UDP traffic"
   ]
  },
  {
   "cell_type": "code",
   "execution_count": null,
   "metadata": {},
   "outputs": [],
   "source": [
    "create_graph_for_protocol_and_layout('udp', 'random', 16*1024)"
   ]
  },
  {
   "cell_type": "code",
   "execution_count": null,
   "metadata": {},
   "outputs": [],
   "source": [
    "create_graph_for_protocol_and_layout('udp', 'circular', 16*1024)"
   ]
  },
  {
   "cell_type": "code",
   "execution_count": null,
   "metadata": {},
   "outputs": [],
   "source": [
    "create_graph_for_protocol_and_layout('udp', 'forceatlas2', 16*1024)"
   ]
  },
  {
   "cell_type": "markdown",
   "metadata": {},
   "source": [
    "### Nodes with at least 1K of ICMP traffic"
   ]
  },
  {
   "cell_type": "code",
   "execution_count": null,
   "metadata": {},
   "outputs": [],
   "source": [
    "create_graph_for_protocol_and_layout('icmp', 'random', 1024)"
   ]
  },
  {
   "cell_type": "code",
   "execution_count": null,
   "metadata": {},
   "outputs": [],
   "source": [
    "create_graph_for_protocol_and_layout('icmp', 'circular', 1024)"
   ]
  },
  {
   "cell_type": "code",
   "execution_count": null,
   "metadata": {},
   "outputs": [],
   "source": [
    "create_graph_for_protocol_and_layout('icmp', 'forceatlas2', 1024)"
   ]
  },
  {
   "cell_type": "code",
   "execution_count": null,
   "metadata": {
    "collapsed": true
   },
   "outputs": [],
   "source": []
  }
 ],
 "metadata": {
  "kernelspec": {
   "display_name": "Python 3",
   "language": "python",
   "name": "python3"
  },
  "language_info": {
   "codemirror_mode": {
    "name": "ipython",
    "version": 3
   },
   "file_extension": ".py",
   "mimetype": "text/x-python",
   "name": "python",
   "nbconvert_exporter": "python",
   "pygments_lexer": "ipython3",
   "version": "3.6.1"
  }
 },
 "nbformat": 4,
 "nbformat_minor": 2
}
