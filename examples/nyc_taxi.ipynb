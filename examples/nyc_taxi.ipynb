{
 "cells": [
  {
   "cell_type": "code",
   "execution_count": null,
   "metadata": {
    "collapsed": false
   },
   "outputs": [],
   "source": [
    "import datashader as ds\n",
    "import datashader.transfer_functions as tf\n",
    "import pandas as pd\n",
    "\n",
    "from bokeh.plotting import figure, output_notebook, show\n",
    "from bokeh.models import ColumnDataSource, CustomJS, Range1d\n",
    "from bokeh.io import push_notebook\n",
    "from bokeh.tile_providers import STAMEN_TONER\n",
    "\n",
    "output_notebook()"
   ]
  },
  {
   "cell_type": "markdown",
   "metadata": {},
   "source": [
    "## Load NYC Taxi data (may take about 30 seconds...)"
   ]
  },
  {
   "cell_type": "code",
   "execution_count": null,
   "metadata": {
    "collapsed": false
   },
   "outputs": [],
   "source": [
    "df = pd.read_csv('data/nyc_taxi.csv')\n",
    "df = df[['pickup_longitude', 'pickup_latitude', 'dropoff_longitude', 'dropoff_latitude', 'passenger_count']]\n",
    "xmin = -8240227.037\n",
    "ymin = 4974203\n",
    "xmax = -8231283.905\n",
    "ymax = 4979238\n",
    "print 'Data loaded...'"
   ]
  },
  {
   "cell_type": "markdown",
   "metadata": {},
   "source": [
    "## A few points are fine"
   ]
  },
  {
   "cell_type": "code",
   "execution_count": null,
   "metadata": {
    "collapsed": false
   },
   "outputs": [],
   "source": [
    "a_few_points = df.sample(n=1000)\n",
    "\n",
    "p = figure(tools='pan,wheel_zoom', plot_width=800, plot_height=500, x_range=(xmin, xmax), y_range=(ymin, ymax))\n",
    "p.add_tile(STAMEN_TONER)\n",
    "p.axis.visible = False\n",
    "p.circle(x=a_few_points['pickup_longitude'], y=a_few_points['pickup_latitude'], line_color='black', fill_color='red')"
   ]
  },
  {
   "cell_type": "code",
   "execution_count": null,
   "metadata": {
    "collapsed": false
   },
   "outputs": [],
   "source": [
    "show(p)"
   ]
  },
  {
   "cell_type": "markdown",
   "metadata": {},
   "source": [
    "## When plotting more than a couple thousand points, the study area is saturated."
   ]
  },
  {
   "cell_type": "code",
   "execution_count": null,
   "metadata": {
    "collapsed": false
   },
   "outputs": [],
   "source": [
    "output_notebook()\n",
    "a_few_points_more = df.sample(n=10000)\n",
    "\n",
    "p = figure(tools='pan,wheel_zoom', plot_width=800, plot_height=500, x_range=(xmin, xmax), y_range=(ymin, ymax))\n",
    "p.add_tile(STAMEN_TONER)\n",
    "p.axis.visible = False\n",
    "p.circle(x=a_few_points_more['pickup_longitude'], y=a_few_points_more['pickup_latitude'], line_color='black', fill_color='red')"
   ]
  },
  {
   "cell_type": "code",
   "execution_count": null,
   "metadata": {
    "collapsed": false
   },
   "outputs": [],
   "source": [
    "show(p)"
   ]
  },
  {
   "cell_type": "code",
   "execution_count": null,
   "metadata": {
    "collapsed": false
   },
   "outputs": [],
   "source": [
    "## Using datashader, you can easily aggregate points and conquer over-saturation"
   ]
  },
  {
   "cell_type": "code",
   "execution_count": null,
   "metadata": {
    "collapsed": false
   },
   "outputs": [],
   "source": [
    "output_notebook()\n",
    "jscode=\"\"\"\n",
    "        // Define a callback to capture errors on the Python side\n",
    "        function callback(msg){\n",
    "            console.log(\"Python callback returned unexpected message:\", msg)\n",
    "        }\n",
    "        \n",
    "        function getPlotByTag(tagName) {\n",
    "            var plot;\n",
    "            $.each(Bokeh.index, function(index, value) {\n",
    "                if ($.inArray(tagName, value.model.attributes.tags) > -1) {\n",
    "                    plot = value;\n",
    "                    return;\n",
    "                }\n",
    "            });\n",
    "            return plot;\n",
    "        };\n",
    "        \n",
    "        function update_plot() {\n",
    "            callbacks = {iopub: {output: callback}};\n",
    "            var plot = getPlotByTag('datashader-plot');\n",
    "            \n",
    "            // Generate a command to execute in Python\n",
    "            var ranges = {xmin: x_range.attributes.start,\n",
    "                          ymin: y_range.attributes.start,\n",
    "                          xmax: x_range.attributes.end,\n",
    "                          ymax: y_range.attributes.end,\n",
    "                          w: plot.frame.get('width'),\n",
    "                          h: plot.frame.get('height')}\n",
    "            console.log(ranges);\n",
    "                          \n",
    "            var range_str = JSON.stringify(ranges)\n",
    "            var cmd = \"%s(\" + range_str + \")\"\n",
    "\n",
    "            // Execute the command on the Python kernel\n",
    "            var kernel = IPython.notebook.kernel;\n",
    "            kernel.execute(cmd, callbacks, {silent : false});\n",
    "        }\n",
    "        \n",
    "        if (window._range_timer) {\n",
    "            clearTimeout(window._range_timer);\n",
    "        }\n",
    "\n",
    "        window._range_timer = setTimeout(update_plot, 150, \"replace\");    \n",
    "\"\"\"\n",
    "\n",
    "\n",
    "p = figure(tools='pan,wheel_zoom', plot_width=800, plot_height=500, x_range=(xmin, xmax), y_range=(ymin, ymax))\n",
    "p.add_tile(STAMEN_TONER)\n",
    "p.axis.visible = False\n",
    "p.tags = ['datashader-plot']\n",
    "\n",
    "def create_image(ranges):\n",
    "    xmin, ymin, xmax, ymax = ranges['xmin'], ranges['ymin'], ranges['xmax'], ranges['ymax']\n",
    "    h, w = ranges['h'], ranges['w']\n",
    "    cvs = ds.Canvas(plot_width=w, plot_height=h, x_range=(xmin, xmax), y_range=(ymin, ymax))\n",
    "    agg = cvs.points(df, 'pickup_longitude', 'pickup_latitude', count=ds.count('passenger_count'))\n",
    "    pix = tf.interpolate(agg.count, (255, 204, 204), 'red', how='log')\n",
    "    dh = ymax - ymin\n",
    "    dw = xmax - xmin\n",
    "    p.image_rgba(image=[pix.img], x=xmin, y=ymin, dw=dw, dh=dh, dilate=False)\n",
    "\n",
    "def update_image(ranges):\n",
    "    p.renderers.pop()\n",
    "    create_image(ranges)\n",
    "    push_notebook()\n",
    "\n",
    "p.x_range.callback = CustomJS(args=dict(x_range=p.x_range, y_range=p.y_range), code=jscode % 'update_image')\n",
    "p.y_range.callback = CustomJS(args=dict(x_range=p.x_range, y_range=p.y_range), code=jscode % 'update_image')\n",
    "\n",
    "# note the hard coded size...\n",
    "create_image(dict(xmin=xmin, ymin=ymin, xmax=xmax, ymax=ymax, w=700, h=400))"
   ]
  },
  {
   "cell_type": "code",
   "execution_count": null,
   "metadata": {
    "collapsed": false
   },
   "outputs": [],
   "source": [
    "show(p)"
   ]
  }
 ],
 "metadata": {
  "kernelspec": {
   "display_name": "Python 2",
   "language": "python",
   "name": "python2"
  },
  "language_info": {
   "codemirror_mode": {
    "name": "ipython",
    "version": 2
   },
   "file_extension": ".py",
   "mimetype": "text/x-python",
   "name": "python",
   "nbconvert_exporter": "python",
   "pygments_lexer": "ipython2",
   "version": "2.7.11"
  }
 },
 "nbformat": 4,
 "nbformat_minor": 0
}
