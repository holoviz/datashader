{
 "cells": [
  {
   "cell_type": "markdown",
   "id": "715a71bf-104a-4447-96a2-e6a56147561a",
   "metadata": {},
   "source": [
    "# NYC buildings dataset with zoom: GeoPandas and SpatialPandas\n",
    "\n",
    "Data from http://s3.amazonaws.com/datashader-data/nyc_buildings.parq.zip\n",
    "\n",
    "Convert to GeoPandas using something like:\n",
    "```\n",
    "sdf = spatialpandas.io.read_parquet(input_directory)\n",
    "gdf = sdf.to_geopandas()\n",
    "gdf.to_parquet(output_filename)\n",
    "```"
   ]
  },
  {
   "cell_type": "code",
   "execution_count": null,
   "id": "232c5f0f-6590-4496-bcb4-98019f68aa65",
   "metadata": {},
   "outputs": [],
   "source": [
    "import colorcet as cc\n",
    "import datashader as ds\n",
    "import geopandas\n",
    "import numpy as np\n",
    "import spatialpandas.io"
   ]
  },
  {
   "cell_type": "code",
   "execution_count": null,
   "id": "cc55185c-d1c2-42fe-beef-914e5ebcc6eb",
   "metadata": {},
   "outputs": [],
   "source": [
    "spd_dir = '/Users/iant/data/hv/nyc_buildings.parq'\n",
    "gpd_file = '/Users/iant/data/hv/gpd.parq'\n",
    "zoom_factor = 30"
   ]
  },
  {
   "cell_type": "code",
   "execution_count": null,
   "id": "8d2b58fe-ee67-49e4-a176-dc59a80d23a5",
   "metadata": {},
   "outputs": [],
   "source": [
    "# Load data into GeoPandas and SpatialPandas GeoDataFrames\n",
    "sdf = spatialpandas.io.read_parquet(spd_dir)\n",
    "sdf.build_sindex()  # IMPORTANT: Explicitly build SpatialPandas spatial index or zoom will be very slow\n",
    "gdf = geopandas.read_parquet(gpd_file)"
   ]
  },
  {
   "cell_type": "code",
   "execution_count": null,
   "id": "325abdd4-1031-48da-834b-e1c90c32e9fc",
   "metadata": {},
   "outputs": [],
   "source": [
    "# Bounds using zoom_level\n",
    "def get_bounds(zoom_factor):\n",
    "    x_range = (-8277717.335387823, -8201084.997925733)\n",
    "    y_range = (4935946.1063207975, 5006441.987955982)\n",
    "    if zoom_factor == 1:\n",
    "        return x_range, y_range\n",
    "\n",
    "    xmid = np.mean(x_range)\n",
    "    dx = np.diff(x_range)[0]\n",
    "    ymid = np.mean(y_range)\n",
    "    dy = np.diff(y_range)[0]\n",
    "\n",
    "    dx /= zoom_factor\n",
    "    dy /= zoom_factor\n",
    "    return (xmid, xmid + dx), (ymid, ymid + dy)\n",
    "\n",
    "x_bounds, y_bounds = get_bounds(zoom_factor)"
   ]
  },
  {
   "cell_type": "markdown",
   "id": "94e7ba4c-62b7-4477-aaec-929a511f8bf8",
   "metadata": {},
   "source": [
    "## Display both outputs"
   ]
  },
  {
   "cell_type": "code",
   "execution_count": null,
   "id": "25b7ca9d-649e-491d-9848-1d45f92b1bf1",
   "metadata": {},
   "outputs": [],
   "source": [
    "# GeoPandas\n",
    "canvas = ds.Canvas(plot_height=1000, plot_width=1000, x_range=x_bounds, y_range=y_bounds)\n",
    "agg = canvas.polygons(source=gdf, geometry=\"geometry\", agg=ds.count())\n",
    "ds.transfer_functions.shade(agg, cmap=cc.bgy, how=\"eq_hist\")"
   ]
  },
  {
   "cell_type": "code",
   "execution_count": null,
   "id": "10964acc-1b8f-4411-b4ef-45be064ce32b",
   "metadata": {},
   "outputs": [],
   "source": [
    "# SpatialPandas\n",
    "agg = canvas.polygons(source=sdf, geometry=\"geometry\", agg=ds.count())\n",
    "ds.transfer_functions.shade(agg, cmap=cc.bgy, how=\"eq_hist\")"
   ]
  },
  {
   "cell_type": "markdown",
   "id": "f4e187a1-0bd1-4b89-b64b-0b4d86567015",
   "metadata": {},
   "source": [
    "## Time GeoPandas"
   ]
  },
  {
   "cell_type": "code",
   "execution_count": null,
   "id": "7a7c5cca-9fac-4ef5-8429-cf8a8f89384f",
   "metadata": {},
   "outputs": [],
   "source": [
    "%%timeit\n",
    "agg = canvas.polygons(source=gdf, geometry=\"geometry\", agg=ds.count())"
   ]
  },
  {
   "cell_type": "markdown",
   "id": "92c4549d-1dcd-40d7-bcd7-a60ab194fcae",
   "metadata": {},
   "source": [
    "## Time SpatialPandas"
   ]
  },
  {
   "cell_type": "code",
   "execution_count": null,
   "id": "0e5b956e-7163-4762-9953-5353ddd661b4",
   "metadata": {},
   "outputs": [],
   "source": [
    "%%timeit\n",
    "agg = canvas.polygons(source=sdf, geometry=\"geometry\", agg=ds.count())"
   ]
  }
 ],
 "metadata": {
  "kernelspec": {
   "display_name": "Python 3 (ipykernel)",
   "language": "python",
   "name": "python3"
  },
  "language_info": {
   "codemirror_mode": {
    "name": "ipython",
    "version": 3
   },
   "file_extension": ".py",
   "mimetype": "text/x-python",
   "name": "python",
   "nbconvert_exporter": "python",
   "pygments_lexer": "ipython3",
   "version": "3.11.4"
  }
 },
 "nbformat": 4,
 "nbformat_minor": 5
}
