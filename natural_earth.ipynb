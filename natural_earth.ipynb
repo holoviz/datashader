{
 "cells": [
  {
   "cell_type": "markdown",
   "id": "715a71bf-104a-4447-96a2-e6a56147561a",
   "metadata": {},
   "source": [
    "# Natural Earth dataset: GeoPandas and SpatialPandas"
   ]
  },
  {
   "cell_type": "code",
   "execution_count": null,
   "id": "17d8133a-60fe-4c5a-91af-784ee4e78ee2",
   "metadata": {},
   "outputs": [],
   "source": [
    "import datashader as ds\n",
    "import geopandas\n",
    "import geodatasets\n",
    "import spatialpandas"
   ]
  },
  {
   "cell_type": "code",
   "execution_count": null,
   "id": "a55e8a5e-1039-4f63-a95c-5ca2034384b6",
   "metadata": {},
   "outputs": [],
   "source": [
    "# Load data into GeoPandas and SpatialPandas GeoDataFrames\n",
    "gdf = geopandas.read_file(geodatasets.get_path(\"naturalearth.land\"))\n",
    "sdf = spatialpandas.GeoDataFrame(gdf)  # Convert to SpatialPandas"
   ]
  },
  {
   "cell_type": "markdown",
   "id": "94e7ba4c-62b7-4477-aaec-929a511f8bf8",
   "metadata": {},
   "source": [
    "## Display both outputs"
   ]
  },
  {
   "cell_type": "code",
   "execution_count": null,
   "id": "25b7ca9d-649e-491d-9848-1d45f92b1bf1",
   "metadata": {},
   "outputs": [],
   "source": [
    "# GeoPandas\n",
    "canvas = ds.Canvas(plot_height=600, plot_width=1200)\n",
    "agg = canvas.polygons(source=gdf, geometry=\"geometry\", agg=ds.count())\n",
    "ds.transfer_functions.shade(agg, cmap=[\"white\", \"green\"], how=\"eq_hist\")"
   ]
  },
  {
   "cell_type": "code",
   "execution_count": null,
   "id": "10964acc-1b8f-4411-b4ef-45be064ce32b",
   "metadata": {},
   "outputs": [],
   "source": [
    "# SpatialPandas\n",
    "canvas = ds.Canvas(plot_height=600, plot_width=1200)\n",
    "agg = canvas.polygons(source=sdf, geometry=\"geometry\", agg=ds.count())\n",
    "ds.transfer_functions.shade(agg, cmap=[\"white\", \"green\"], how=\"eq_hist\")"
   ]
  },
  {
   "cell_type": "markdown",
   "id": "f4e187a1-0bd1-4b89-b64b-0b4d86567015",
   "metadata": {},
   "source": [
    "## Time GeoPandas"
   ]
  },
  {
   "cell_type": "code",
   "execution_count": null,
   "id": "7a7c5cca-9fac-4ef5-8429-cf8a8f89384f",
   "metadata": {},
   "outputs": [],
   "source": [
    "%%timeit\n",
    "agg = canvas.polygons(source=gdf, geometry=\"geometry\", agg=ds.count())"
   ]
  },
  {
   "cell_type": "markdown",
   "id": "92c4549d-1dcd-40d7-bcd7-a60ab194fcae",
   "metadata": {},
   "source": [
    "## Time SpatialPandas"
   ]
  },
  {
   "cell_type": "code",
   "execution_count": null,
   "id": "0e5b956e-7163-4762-9953-5353ddd661b4",
   "metadata": {},
   "outputs": [],
   "source": [
    "%%timeit\n",
    "agg = canvas.polygons(source=sdf, geometry=\"geometry\", agg=ds.count())"
   ]
  }
 ],
 "metadata": {
  "kernelspec": {
   "display_name": "Python 3 (ipykernel)",
   "language": "python",
   "name": "python3"
  },
  "language_info": {
   "codemirror_mode": {
    "name": "ipython",
    "version": 3
   },
   "file_extension": ".py",
   "mimetype": "text/x-python",
   "name": "python",
   "nbconvert_exporter": "python",
   "pygments_lexer": "ipython3",
   "version": "3.11.4"
  }
 },
 "nbformat": 4,
 "nbformat_minor": 5
}
